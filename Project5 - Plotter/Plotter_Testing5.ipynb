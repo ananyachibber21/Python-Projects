{
 "cells": [
  {
   "cell_type": "code",
   "execution_count": 1,
   "id": "ed285a30",
   "metadata": {},
   "outputs": [
    {
     "name": "stdout",
     "output_type": "stream",
     "text": [
      "Requirement already satisfied: plotly in c:\\users\\dell\\anaconda3\\lib\\site-packages (5.6.0)\n",
      "Requirement already satisfied: six in c:\\users\\dell\\anaconda3\\lib\\site-packages (from plotly) (1.16.0)\n",
      "Requirement already satisfied: tenacity>=6.2.0 in c:\\users\\dell\\anaconda3\\lib\\site-packages (from plotly) (8.0.1)\n",
      "Note: you may need to restart the kernel to use updated packages.\n"
     ]
    }
   ],
   "source": [
    "pip install plotly"
   ]
  },
  {
   "cell_type": "code",
   "execution_count": 2,
   "id": "99641b87",
   "metadata": {},
   "outputs": [
    {
     "name": "stdout",
     "output_type": "stream",
     "text": [
      "Requirement already satisfied: cufflinks in c:\\users\\dell\\anaconda3\\lib\\site-packages (0.17.3)\n",
      "Requirement already satisfied: pandas>=0.19.2 in c:\\users\\dell\\anaconda3\\lib\\site-packages (from cufflinks) (1.4.2)\n",
      "Requirement already satisfied: ipywidgets>=7.0.0 in c:\\users\\dell\\anaconda3\\lib\\site-packages (from cufflinks) (7.6.5)\n",
      "Requirement already satisfied: numpy>=1.9.2 in c:\\users\\dell\\anaconda3\\lib\\site-packages (from cufflinks) (1.21.5)\n",
      "Requirement already satisfied: setuptools>=34.4.1 in c:\\users\\dell\\anaconda3\\lib\\site-packages (from cufflinks) (61.2.0)\n",
      "Requirement already satisfied: colorlover>=0.2.1 in c:\\users\\dell\\anaconda3\\lib\\site-packages (from cufflinks) (0.3.0)\n",
      "Requirement already satisfied: ipython>=5.3.0 in c:\\users\\dell\\anaconda3\\lib\\site-packages (from cufflinks) (8.2.0)\n",
      "Requirement already satisfied: plotly>=4.1.1 in c:\\users\\dell\\anaconda3\\lib\\site-packages (from cufflinks) (5.6.0)\n",
      "Requirement already satisfied: six>=1.9.0 in c:\\users\\dell\\anaconda3\\lib\\site-packages (from cufflinks) (1.16.0)\n",
      "Requirement already satisfied: stack-data in c:\\users\\dell\\anaconda3\\lib\\site-packages (from ipython>=5.3.0->cufflinks) (0.2.0)\n",
      "Requirement already satisfied: pickleshare in c:\\users\\dell\\anaconda3\\lib\\site-packages (from ipython>=5.3.0->cufflinks) (0.7.5)\n",
      "Requirement already satisfied: traitlets>=5 in c:\\users\\dell\\anaconda3\\lib\\site-packages (from ipython>=5.3.0->cufflinks) (5.1.1)\n",
      "Requirement already satisfied: jedi>=0.16 in c:\\users\\dell\\anaconda3\\lib\\site-packages (from ipython>=5.3.0->cufflinks) (0.18.1)\n",
      "Requirement already satisfied: pygments>=2.4.0 in c:\\users\\dell\\anaconda3\\lib\\site-packages (from ipython>=5.3.0->cufflinks) (2.11.2)\n",
      "Requirement already satisfied: colorama in c:\\users\\dell\\anaconda3\\lib\\site-packages (from ipython>=5.3.0->cufflinks) (0.4.4)\n",
      "Requirement already satisfied: backcall in c:\\users\\dell\\anaconda3\\lib\\site-packages (from ipython>=5.3.0->cufflinks) (0.2.0)\n",
      "Requirement already satisfied: matplotlib-inline in c:\\users\\dell\\anaconda3\\lib\\site-packages (from ipython>=5.3.0->cufflinks) (0.1.2)\n",
      "Requirement already satisfied: decorator in c:\\users\\dell\\anaconda3\\lib\\site-packages (from ipython>=5.3.0->cufflinks) (5.1.1)\n",
      "Requirement already satisfied: prompt-toolkit!=3.0.0,!=3.0.1,<3.1.0,>=2.0.0 in c:\\users\\dell\\anaconda3\\lib\\site-packages (from ipython>=5.3.0->cufflinks) (3.0.20)\n",
      "Requirement already satisfied: widgetsnbextension~=3.5.0 in c:\\users\\dell\\anaconda3\\lib\\site-packages (from ipywidgets>=7.0.0->cufflinks) (3.5.2)\n",
      "Requirement already satisfied: ipykernel>=4.5.1 in c:\\users\\dell\\anaconda3\\lib\\site-packages (from ipywidgets>=7.0.0->cufflinks) (6.9.1)\n",
      "Requirement already satisfied: jupyterlab-widgets>=1.0.0 in c:\\users\\dell\\anaconda3\\lib\\site-packages (from ipywidgets>=7.0.0->cufflinks) (1.0.0)\n",
      "Requirement already satisfied: nbformat>=4.2.0 in c:\\users\\dell\\anaconda3\\lib\\site-packages (from ipywidgets>=7.0.0->cufflinks) (5.3.0)\n",
      "Requirement already satisfied: ipython-genutils~=0.2.0 in c:\\users\\dell\\anaconda3\\lib\\site-packages (from ipywidgets>=7.0.0->cufflinks) (0.2.0)\n",
      "Requirement already satisfied: debugpy<2.0,>=1.0.0 in c:\\users\\dell\\anaconda3\\lib\\site-packages (from ipykernel>=4.5.1->ipywidgets>=7.0.0->cufflinks) (1.5.1)\n",
      "Requirement already satisfied: jupyter-client<8.0 in c:\\users\\dell\\anaconda3\\lib\\site-packages (from ipykernel>=4.5.1->ipywidgets>=7.0.0->cufflinks) (6.1.12)\n",
      "Requirement already satisfied: nest-asyncio in c:\\users\\dell\\anaconda3\\lib\\site-packages (from ipykernel>=4.5.1->ipywidgets>=7.0.0->cufflinks) (1.5.5)\n",
      "Requirement already satisfied: tornado<7.0,>=4.2 in c:\\users\\dell\\anaconda3\\lib\\site-packages (from ipykernel>=4.5.1->ipywidgets>=7.0.0->cufflinks) (6.1)\n",
      "Requirement already satisfied: parso<0.9.0,>=0.8.0 in c:\\users\\dell\\anaconda3\\lib\\site-packages (from jedi>=0.16->ipython>=5.3.0->cufflinks) (0.8.3)\n",
      "Requirement already satisfied: jupyter-core>=4.6.0 in c:\\users\\dell\\anaconda3\\lib\\site-packages (from jupyter-client<8.0->ipykernel>=4.5.1->ipywidgets>=7.0.0->cufflinks) (4.9.2)\n",
      "Requirement already satisfied: pyzmq>=13 in c:\\users\\dell\\anaconda3\\lib\\site-packages (from jupyter-client<8.0->ipykernel>=4.5.1->ipywidgets>=7.0.0->cufflinks) (22.3.0)\n",
      "Requirement already satisfied: python-dateutil>=2.1 in c:\\users\\dell\\anaconda3\\lib\\site-packages (from jupyter-client<8.0->ipykernel>=4.5.1->ipywidgets>=7.0.0->cufflinks) (2.8.2)\n",
      "Requirement already satisfied: pywin32>=1.0 in c:\\users\\dell\\anaconda3\\lib\\site-packages (from jupyter-core>=4.6.0->jupyter-client<8.0->ipykernel>=4.5.1->ipywidgets>=7.0.0->cufflinks) (302)\n",
      "Requirement already satisfied: jsonschema>=2.6 in c:\\users\\dell\\anaconda3\\lib\\site-packages (from nbformat>=4.2.0->ipywidgets>=7.0.0->cufflinks) (4.4.0)\n",
      "Requirement already satisfied: fastjsonschema in c:\\users\\dell\\anaconda3\\lib\\site-packages (from nbformat>=4.2.0->ipywidgets>=7.0.0->cufflinks) (2.15.1)\n",
      "Requirement already satisfied: attrs>=17.4.0 in c:\\users\\dell\\anaconda3\\lib\\site-packages (from jsonschema>=2.6->nbformat>=4.2.0->ipywidgets>=7.0.0->cufflinks) (21.4.0)\n",
      "Requirement already satisfied: pyrsistent!=0.17.0,!=0.17.1,!=0.17.2,>=0.14.0 in c:\\users\\dell\\anaconda3\\lib\\site-packages (from jsonschema>=2.6->nbformat>=4.2.0->ipywidgets>=7.0.0->cufflinks) (0.18.0)\n",
      "Requirement already satisfied: pytz>=2020.1 in c:\\users\\dell\\anaconda3\\lib\\site-packages (from pandas>=0.19.2->cufflinks) (2021.3)\n",
      "Requirement already satisfied: tenacity>=6.2.0 in c:\\users\\dell\\anaconda3\\lib\\site-packages (from plotly>=4.1.1->cufflinks) (8.0.1)\n",
      "Requirement already satisfied: wcwidth in c:\\users\\dell\\anaconda3\\lib\\site-packages (from prompt-toolkit!=3.0.0,!=3.0.1,<3.1.0,>=2.0.0->ipython>=5.3.0->cufflinks) (0.2.5)\n",
      "Requirement already satisfied: notebook>=4.4.1 in c:\\users\\dell\\anaconda3\\lib\\site-packages (from widgetsnbextension~=3.5.0->ipywidgets>=7.0.0->cufflinks) (6.4.8)\n",
      "Requirement already satisfied: argon2-cffi in c:\\users\\dell\\anaconda3\\lib\\site-packages (from notebook>=4.4.1->widgetsnbextension~=3.5.0->ipywidgets>=7.0.0->cufflinks) (21.3.0)\n",
      "Requirement already satisfied: Send2Trash>=1.8.0 in c:\\users\\dell\\anaconda3\\lib\\site-packages (from notebook>=4.4.1->widgetsnbextension~=3.5.0->ipywidgets>=7.0.0->cufflinks) (1.8.0)\n",
      "Requirement already satisfied: prometheus-client in c:\\users\\dell\\anaconda3\\lib\\site-packages (from notebook>=4.4.1->widgetsnbextension~=3.5.0->ipywidgets>=7.0.0->cufflinks) (0.13.1)\n",
      "Requirement already satisfied: nbconvert in c:\\users\\dell\\anaconda3\\lib\\site-packages (from notebook>=4.4.1->widgetsnbextension~=3.5.0->ipywidgets>=7.0.0->cufflinks) (6.4.4)\n",
      "Requirement already satisfied: terminado>=0.8.3 in c:\\users\\dell\\anaconda3\\lib\\site-packages (from notebook>=4.4.1->widgetsnbextension~=3.5.0->ipywidgets>=7.0.0->cufflinks) (0.13.1)\n",
      "Requirement already satisfied: jinja2 in c:\\users\\dell\\anaconda3\\lib\\site-packages (from notebook>=4.4.1->widgetsnbextension~=3.5.0->ipywidgets>=7.0.0->cufflinks) (2.11.3)\n",
      "Requirement already satisfied: pywinpty>=1.1.0 in c:\\users\\dell\\anaconda3\\lib\\site-packages (from terminado>=0.8.3->notebook>=4.4.1->widgetsnbextension~=3.5.0->ipywidgets>=7.0.0->cufflinks) (2.0.2)\n",
      "Requirement already satisfied: argon2-cffi-bindings in c:\\users\\dell\\anaconda3\\lib\\site-packages (from argon2-cffi->notebook>=4.4.1->widgetsnbextension~=3.5.0->ipywidgets>=7.0.0->cufflinks) (21.2.0)\n",
      "Requirement already satisfied: cffi>=1.0.1 in c:\\users\\dell\\anaconda3\\lib\\site-packages (from argon2-cffi-bindings->argon2-cffi->notebook>=4.4.1->widgetsnbextension~=3.5.0->ipywidgets>=7.0.0->cufflinks) (1.15.0)\n",
      "Requirement already satisfied: pycparser in c:\\users\\dell\\anaconda3\\lib\\site-packages (from cffi>=1.0.1->argon2-cffi-bindings->argon2-cffi->notebook>=4.4.1->widgetsnbextension~=3.5.0->ipywidgets>=7.0.0->cufflinks) (2.21)\n",
      "Requirement already satisfied: MarkupSafe>=0.23 in c:\\users\\dell\\anaconda3\\lib\\site-packages (from jinja2->notebook>=4.4.1->widgetsnbextension~=3.5.0->ipywidgets>=7.0.0->cufflinks) (2.0.1)\n",
      "Requirement already satisfied: entrypoints>=0.2.2 in c:\\users\\dell\\anaconda3\\lib\\site-packages (from nbconvert->notebook>=4.4.1->widgetsnbextension~=3.5.0->ipywidgets>=7.0.0->cufflinks) (0.4)\n",
      "Requirement already satisfied: bleach in c:\\users\\dell\\anaconda3\\lib\\site-packages (from nbconvert->notebook>=4.4.1->widgetsnbextension~=3.5.0->ipywidgets>=7.0.0->cufflinks) (4.1.0)\n",
      "Requirement already satisfied: mistune<2,>=0.8.1 in c:\\users\\dell\\anaconda3\\lib\\site-packages (from nbconvert->notebook>=4.4.1->widgetsnbextension~=3.5.0->ipywidgets>=7.0.0->cufflinks) (0.8.4)\n",
      "Requirement already satisfied: pandocfilters>=1.4.1 in c:\\users\\dell\\anaconda3\\lib\\site-packages (from nbconvert->notebook>=4.4.1->widgetsnbextension~=3.5.0->ipywidgets>=7.0.0->cufflinks) (1.5.0)\n",
      "Requirement already satisfied: defusedxml in c:\\users\\dell\\anaconda3\\lib\\site-packages (from nbconvert->notebook>=4.4.1->widgetsnbextension~=3.5.0->ipywidgets>=7.0.0->cufflinks) (0.7.1)\n",
      "Requirement already satisfied: nbclient<0.6.0,>=0.5.0 in c:\\users\\dell\\anaconda3\\lib\\site-packages (from nbconvert->notebook>=4.4.1->widgetsnbextension~=3.5.0->ipywidgets>=7.0.0->cufflinks) (0.5.13)\n",
      "Requirement already satisfied: testpath in c:\\users\\dell\\anaconda3\\lib\\site-packages (from nbconvert->notebook>=4.4.1->widgetsnbextension~=3.5.0->ipywidgets>=7.0.0->cufflinks) (0.5.0)\n",
      "Requirement already satisfied: beautifulsoup4 in c:\\users\\dell\\anaconda3\\lib\\site-packages (from nbconvert->notebook>=4.4.1->widgetsnbextension~=3.5.0->ipywidgets>=7.0.0->cufflinks) (4.11.1)\n",
      "Requirement already satisfied: jupyterlab-pygments in c:\\users\\dell\\anaconda3\\lib\\site-packages (from nbconvert->notebook>=4.4.1->widgetsnbextension~=3.5.0->ipywidgets>=7.0.0->cufflinks) (0.1.2)\n",
      "Requirement already satisfied: soupsieve>1.2 in c:\\users\\dell\\anaconda3\\lib\\site-packages (from beautifulsoup4->nbconvert->notebook>=4.4.1->widgetsnbextension~=3.5.0->ipywidgets>=7.0.0->cufflinks) (2.3.1)\n",
      "Requirement already satisfied: packaging in c:\\users\\dell\\anaconda3\\lib\\site-packages (from bleach->nbconvert->notebook>=4.4.1->widgetsnbextension~=3.5.0->ipywidgets>=7.0.0->cufflinks) (21.3)\n",
      "Requirement already satisfied: webencodings in c:\\users\\dell\\anaconda3\\lib\\site-packages (from bleach->nbconvert->notebook>=4.4.1->widgetsnbextension~=3.5.0->ipywidgets>=7.0.0->cufflinks) (0.5.1)\n",
      "Requirement already satisfied: pyparsing!=3.0.5,>=2.0.2 in c:\\users\\dell\\anaconda3\\lib\\site-packages (from packaging->bleach->nbconvert->notebook>=4.4.1->widgetsnbextension~=3.5.0->ipywidgets>=7.0.0->cufflinks) (3.0.4)\n",
      "Requirement already satisfied: executing in c:\\users\\dell\\anaconda3\\lib\\site-packages (from stack-data->ipython>=5.3.0->cufflinks) (0.8.3)\n",
      "Requirement already satisfied: asttokens in c:\\users\\dell\\anaconda3\\lib\\site-packages (from stack-data->ipython>=5.3.0->cufflinks) (2.0.5)\n",
      "Requirement already satisfied: pure-eval in c:\\users\\dell\\anaconda3\\lib\\site-packages (from stack-data->ipython>=5.3.0->cufflinks) (0.2.2)\n",
      "Note: you may need to restart the kernel to use updated packages.\n"
     ]
    }
   ],
   "source": [
    "pip install cufflinks"
   ]
  },
  {
   "cell_type": "code",
   "execution_count": 3,
   "id": "5ec7db37",
   "metadata": {},
   "outputs": [
    {
     "name": "stdout",
     "output_type": "stream",
     "text": [
      "Requirement already satisfied: chart-studio in c:\\users\\dell\\anaconda3\\lib\\site-packages (1.1.0)\n",
      "Requirement already satisfied: requests in c:\\users\\dell\\anaconda3\\lib\\site-packages (from chart-studio) (2.27.1)\n",
      "Requirement already satisfied: retrying>=1.3.3 in c:\\users\\dell\\anaconda3\\lib\\site-packages (from chart-studio) (1.3.3)\n",
      "Requirement already satisfied: six in c:\\users\\dell\\anaconda3\\lib\\site-packages (from chart-studio) (1.16.0)\n",
      "Requirement already satisfied: plotly in c:\\users\\dell\\anaconda3\\lib\\site-packages (from chart-studio) (5.6.0)\n",
      "Requirement already satisfied: tenacity>=6.2.0 in c:\\users\\dell\\anaconda3\\lib\\site-packages (from plotly->chart-studio) (8.0.1)\n",
      "Requirement already satisfied: charset-normalizer~=2.0.0 in c:\\users\\dell\\anaconda3\\lib\\site-packages (from requests->chart-studio) (2.0.4)\n",
      "Requirement already satisfied: certifi>=2017.4.17 in c:\\users\\dell\\anaconda3\\lib\\site-packages (from requests->chart-studio) (2021.10.8)\n",
      "Requirement already satisfied: urllib3<1.27,>=1.21.1 in c:\\users\\dell\\anaconda3\\lib\\site-packages (from requests->chart-studio) (1.26.9)\n",
      "Requirement already satisfied: idna<4,>=2.5 in c:\\users\\dell\\anaconda3\\lib\\site-packages (from requests->chart-studio) (3.3)\n",
      "Note: you may need to restart the kernel to use updated packages.\n"
     ]
    }
   ],
   "source": [
    "pip install chart-studio"
   ]
  },
  {
   "cell_type": "code",
   "execution_count": 4,
   "id": "7675e7c3",
   "metadata": {},
   "outputs": [],
   "source": [
    "import numpy as np\n",
    "import pandas as pd\n",
    "import chart_studio.plotly as pl\n",
    "import plotly.offline as po\n",
    "import cufflinks as cf"
   ]
  },
  {
   "cell_type": "code",
   "execution_count": 5,
   "id": "e57b8a29",
   "metadata": {},
   "outputs": [
    {
     "data": {
      "text/html": [
       "        <script type=\"text/javascript\">\n",
       "        window.PlotlyConfig = {MathJaxConfig: 'local'};\n",
       "        if (window.MathJax) {MathJax.Hub.Config({SVG: {font: \"STIX-Web\"}});}\n",
       "        if (typeof require !== 'undefined') {\n",
       "        require.undef(\"plotly\");\n",
       "        requirejs.config({\n",
       "            paths: {\n",
       "                'plotly': ['https://cdn.plot.ly/plotly-2.9.0.min']\n",
       "            }\n",
       "        });\n",
       "        require(['plotly'], function(Plotly) {\n",
       "            window._Plotly = Plotly;\n",
       "        });\n",
       "        }\n",
       "        </script>\n",
       "        "
      ]
     },
     "metadata": {},
     "output_type": "display_data"
    },
    {
     "data": {
      "text/html": [
       "        <script type=\"text/javascript\">\n",
       "        window.PlotlyConfig = {MathJaxConfig: 'local'};\n",
       "        if (window.MathJax) {MathJax.Hub.Config({SVG: {font: \"STIX-Web\"}});}\n",
       "        if (typeof require !== 'undefined') {\n",
       "        require.undef(\"plotly\");\n",
       "        requirejs.config({\n",
       "            paths: {\n",
       "                'plotly': ['https://cdn.plot.ly/plotly-2.9.0.min']\n",
       "            }\n",
       "        });\n",
       "        require(['plotly'], function(Plotly) {\n",
       "            window._Plotly = Plotly;\n",
       "        });\n",
       "        }\n",
       "        </script>\n",
       "        "
      ]
     },
     "metadata": {},
     "output_type": "display_data"
    }
   ],
   "source": [
    "po.init_notebook_mode(connected = True)\n",
    "cf.go_offline()"
   ]
  },
  {
   "cell_type": "code",
   "execution_count": 6,
   "id": "1621e6c9",
   "metadata": {},
   "outputs": [],
   "source": [
    "def createDataframe(ch1):\n",
    "    if(ch1 == 1):\n",
    "        x = np.random.rand(100,5)\n",
    "        df1 = pd.DataFrame(x,columns=['A','B','C','D','E'])\n",
    "    elif(ch1 == 2):\n",
    "        x = [0,0,0,0,0]\n",
    "        r1 = [0,0,0,0,0]\n",
    "        r2 = [0,0,0,0,0]\n",
    "        r3 = [0,0,0,0,0]\n",
    "        r4 = [0,0,0,0,0]\n",
    "        print(\"Enter the value for columns: \")\n",
    "        for i in range(5):\n",
    "            x[i] = input()\n",
    "        print(\"Enter the value for first row: \")\n",
    "        for i in range(5):\n",
    "            r1[i] = int(input())\n",
    "        print(\"Enter the value for second row: \")\n",
    "        for i in range(5):\n",
    "            r2[i] = int(input())\n",
    "        print(\"Enter the value for third row: \")\n",
    "        for i in range(5):\n",
    "            r3[i] = int(input())\n",
    "        print(\"Enter the value for forth row: \")\n",
    "        for i in range(5):\n",
    "            r4[i] = int(input())\n",
    "        df1 = pd.DataFrame([r1,r2,r3,r4], columns = x)\n",
    "    elif(ch1 == 3):\n",
    "        file = input(\"Enter the file name: \")\n",
    "        x = pd.read_csv(file)\n",
    "        df1 = pd.DataFrame(x)\n",
    "    else:\n",
    "        print(\"Dataframe creation failed! Please enter a number between 1 and 3\")\n",
    "    return df1\n",
    "        "
   ]
  },
  {
   "cell_type": "code",
   "execution_count": 7,
   "id": "d21a9c69",
   "metadata": {},
   "outputs": [],
   "source": [
    "def plotter(ch3):\n",
    "    if(ch3 == 1):\n",
    "        final_plot = df1.iplot(kind=\"scatter\")\n",
    "    elif(ch3 == 2):\n",
    "        final_plot = df1.iplot(kind=\"scatter\",mode=\"markers\",symbol=\"0\",colorscale=\"paired\")\n",
    "    elif(ch3 == 3):\n",
    "        final_plot = df1.iplot(kind=\"bar\")\n",
    "    elif(ch3 == 4):\n",
    "        final_plot = df1.iplot(kind=\"hist\")\n",
    "    elif(ch3 == 5):\n",
    "        final_plot = df1.iplot(kind=\"box\")\n",
    "    elif(ch3 == 6):\n",
    "        final_plot = df1.iplot(kind=\"surface\")\n",
    "    else:\n",
    "        final_plot = print(\"Please try Again! Enter value between 1 and 6\")\n",
    "    return final_plot\n",
    "    "
   ]
  },
  {
   "cell_type": "code",
   "execution_count": 8,
   "id": "90d3d112",
   "metadata": {},
   "outputs": [],
   "source": [
    "def plotter2(ch3):\n",
    "    col = input('Enter the number of columns you want to plot by selecting only 1 , 2 or 3')\n",
    "    col = int(col)\n",
    "    if(col==1):\n",
    "        colm = input('Enter the column you want to plot by selecting any column from dataframe head')\n",
    "        if(ch3 == 1):\n",
    "            final_plot = df1[colm].iplot(kind='scatter')\n",
    "        elif(ch3 == 2):\n",
    "            final_plot = df1[colm].iplot(kind='scatter' , mode='markers' , symbol='x' ,colorscale='paired')\n",
    "        elif(ch3 == 3):\n",
    "            final_plot = df1[colm].iplot(kind='bar')\n",
    "        elif(ch3 == 4):\n",
    "            final_plot = df1[colm].iplot(kind='hist')\n",
    "        elif(ch3 == 5):\n",
    "            final_plot = df1[colm].iplot(kind='box')\n",
    "        elif(ch3 == 6 or ch3 == 7):\n",
    "            final_plot = print('Bubble plot and surface plot require more than one column arguments')\n",
    "        else:\n",
    "            final_plot = print('Select only between 1 to 7')\n",
    "    elif(col==2):\n",
    "        print('Enter the columns you want to plot by selecting from dataframe head')\n",
    "        x = input('First column')\n",
    "        y = input('Second column')\n",
    "        if(ch3 == 1):\n",
    "            final_plot = df1[[x,y]].iplot(kind='scatter')\n",
    "        elif(ch3 == 2):\n",
    "            final_plot = df1[[x,y]].iplot(kind='scatter' , mode='markers' , symbol='x' ,colorscale='paired')\n",
    "        elif(ch3 == 3):\n",
    "            final_plot = df1[[x,y]].iplot(kind='bar')\n",
    "        elif(ch3 == 4):\n",
    "            final_plot = df1[[x,y]].iplot(kind='hist')\n",
    "        elif(ch3 == 5):\n",
    "            final_plot = df1[[x,y]].iplot(kind='box')\n",
    "        elif(ch3 == 6):\n",
    "            final_plot = df1[[x,y]].iplot(kind='surface')\n",
    "        elif(ch3 == 7):\n",
    "            size = input('Please enter the size column for bubble plot')\n",
    "            final_plot = df1.iplot(kind='bubble' , x=x,y=y,size=size)\n",
    "        else:\n",
    "            final_plot = print('Select only between 1 to 7')\n",
    "    elif(col==3):\n",
    "        print('Enter the columns you want to plot')\n",
    "        x=input('First column')\n",
    "        y=input('Second column')\n",
    "        z=input('Third column')\n",
    "        if(ch3 == 1):\n",
    "            final_plot = df1[[x,y,z]].iplot(kind='scatter')\n",
    "        elif(ch3 == 2):\n",
    "            final_plot = df1[[x,y,z]].iplot(kind='scatter' , mode='markers' , symbol='x' ,colorscale='paired')\n",
    "        elif(ch3 == 3):\n",
    "            final_plot = df1[[x,y,z]].iplot(kind='bar')\n",
    "        elif(ch3 == 4):\n",
    "            final_plot = df1[[x,y,z]].iplot(kind='hist')\n",
    "        elif(ch3 == 5):\n",
    "            final_plot = df1[[x,y,z]].iplot(kind='box')\n",
    "        elif(ch3 == 6):\n",
    "            final_plot = df1[[x,y,z]].iplot(kind='surface')\n",
    "        elif(ch3 == 7):\n",
    "            size = input('Please enter the size column for bubble plot')\n",
    "            final_plot = df1.iplot(kind='bubble' , x=x,y=y,z=z,size=size )\n",
    "        else:\n",
    "            final_plot = print('Select only between 1 to 7')\n",
    "    else:\n",
    "        final_plot = print('Please enter only 1 , 2 or 3')\n",
    "    return final_plot"
   ]
  },
  {
   "cell_type": "code",
   "execution_count": 9,
   "id": "ffe874e4",
   "metadata": {},
   "outputs": [],
   "source": [
    "def main(ch2):\n",
    "    if(ch2 == 1):\n",
    "        print(\"Select the type of plot you want to plot for your dataset\")\n",
    "        print('1-Line Plot')\n",
    "        print('2-Scatter Plot')\n",
    "        print('3-Bar Plot')\n",
    "        print('4-Histogram')\n",
    "        print('5-Box Plot')\n",
    "        print('6-Surface Plot')\n",
    "        ch3 = int(input())\n",
    "        plot = plotter(ch3)\n",
    "    elif(ch2 == 2):\n",
    "        print(\"Select the type of plot you want to plot for your dataset\")\n",
    "        print('1-Line Plot')\n",
    "        print('2-Scatter Plot')\n",
    "        print('3-Bar Plot')\n",
    "        print('4-Histogram')\n",
    "        print('5-Box Plot')\n",
    "        print('6-Surface Plot')\n",
    "        print('7-Bubble Plot')\n",
    "        ch3 = int(input())\n",
    "        plot = plotter2(ch3)\n",
    "    else:\n",
    "        print(\"Please enter 1 or 2. Try Again!\")\n",
    "        \n",
    "        "
   ]
  },
  {
   "cell_type": "code",
   "execution_count": 10,
   "id": "097b9081",
   "metadata": {},
   "outputs": [
    {
     "name": "stdout",
     "output_type": "stream",
     "text": [
      "Choose the type of data you need ...\n",
      "1-Random data with 100 rows and 5 columns\n",
      "2-Customize your dataset with 4 rows and 5 columns\n",
      "3-Upload csv/json/text file\n",
      "1\n"
     ]
    }
   ],
   "source": [
    "print('Choose the type of data you need ...')\n",
    "print('1-Random data with 100 rows and 5 columns')\n",
    "print('2-Customize your dataset with 4 rows and 5 columns')\n",
    "print('3-Upload csv/json/text file')\n",
    "ch1 = int(input())\n",
    "df1 = createDataframe(ch1)"
   ]
  },
  {
   "cell_type": "code",
   "execution_count": 11,
   "id": "cda6287d",
   "metadata": {},
   "outputs": [
    {
     "data": {
      "text/html": [
       "<div>\n",
       "<style scoped>\n",
       "    .dataframe tbody tr th:only-of-type {\n",
       "        vertical-align: middle;\n",
       "    }\n",
       "\n",
       "    .dataframe tbody tr th {\n",
       "        vertical-align: top;\n",
       "    }\n",
       "\n",
       "    .dataframe thead th {\n",
       "        text-align: right;\n",
       "    }\n",
       "</style>\n",
       "<table border=\"1\" class=\"dataframe\">\n",
       "  <thead>\n",
       "    <tr style=\"text-align: right;\">\n",
       "      <th></th>\n",
       "      <th>A</th>\n",
       "      <th>B</th>\n",
       "      <th>C</th>\n",
       "      <th>D</th>\n",
       "      <th>E</th>\n",
       "    </tr>\n",
       "  </thead>\n",
       "  <tbody>\n",
       "    <tr>\n",
       "      <th>0</th>\n",
       "      <td>0.642688</td>\n",
       "      <td>0.211758</td>\n",
       "      <td>0.572760</td>\n",
       "      <td>0.004342</td>\n",
       "      <td>0.800315</td>\n",
       "    </tr>\n",
       "    <tr>\n",
       "      <th>1</th>\n",
       "      <td>0.254340</td>\n",
       "      <td>0.332304</td>\n",
       "      <td>0.060305</td>\n",
       "      <td>0.649214</td>\n",
       "      <td>0.821618</td>\n",
       "    </tr>\n",
       "    <tr>\n",
       "      <th>2</th>\n",
       "      <td>0.036519</td>\n",
       "      <td>0.257046</td>\n",
       "      <td>0.538061</td>\n",
       "      <td>0.709687</td>\n",
       "      <td>0.276282</td>\n",
       "    </tr>\n",
       "    <tr>\n",
       "      <th>3</th>\n",
       "      <td>0.606254</td>\n",
       "      <td>0.502921</td>\n",
       "      <td>0.157790</td>\n",
       "      <td>0.337965</td>\n",
       "      <td>0.575269</td>\n",
       "    </tr>\n",
       "    <tr>\n",
       "      <th>4</th>\n",
       "      <td>0.161045</td>\n",
       "      <td>0.192127</td>\n",
       "      <td>0.505218</td>\n",
       "      <td>0.338588</td>\n",
       "      <td>0.989409</td>\n",
       "    </tr>\n",
       "  </tbody>\n",
       "</table>\n",
       "</div>"
      ],
      "text/plain": [
       "          A         B         C         D         E\n",
       "0  0.642688  0.211758  0.572760  0.004342  0.800315\n",
       "1  0.254340  0.332304  0.060305  0.649214  0.821618\n",
       "2  0.036519  0.257046  0.538061  0.709687  0.276282\n",
       "3  0.606254  0.502921  0.157790  0.337965  0.575269\n",
       "4  0.161045  0.192127  0.505218  0.338588  0.989409"
      ]
     },
     "execution_count": 11,
     "metadata": {},
     "output_type": "execute_result"
    }
   ],
   "source": [
    "df1.head()"
   ]
  },
  {
   "cell_type": "code",
   "execution_count": 12,
   "id": "121412a9",
   "metadata": {},
   "outputs": [
    {
     "name": "stdout",
     "output_type": "stream",
     "text": [
      "What type of plot you need? A complete data plot or columns plot\n",
      "Press 1 for plotting all columns\n",
      "Press 2 for plotting specified columns\n",
      "1\n"
     ]
    }
   ],
   "source": [
    "print(\"What type of plot you need? A complete data plot or columns plot\")\n",
    "print('Press 1 for plotting all columns')\n",
    "print('Press 2 for plotting specified columns')\n",
    "ch2 = int(input())"
   ]
  },
  {
   "cell_type": "code",
   "execution_count": 13,
   "id": "e3c432c5",
   "metadata": {},
   "outputs": [
    {
     "name": "stdout",
     "output_type": "stream",
     "text": [
      "Select the type of plot you want to plot for your dataset\n",
      "1-Line Plot\n",
      "2-Scatter Plot\n",
      "3-Bar Plot\n",
      "4-Histogram\n",
      "5-Box Plot\n",
      "6-Surface Plot\n",
      "4\n"
     ]
    },
    {
     "data": {
      "application/vnd.plotly.v1+json": {
       "config": {
        "linkText": "Export to plot.ly",
        "plotlyServerURL": "https://plot.ly",
        "showLink": true
       },
       "data": [
        {
         "histfunc": "count",
         "histnorm": "",
         "marker": {
          "color": "rgba(255, 153, 51, 1.0)",
          "line": {
           "color": "#4D5663",
           "width": 1.3
          }
         },
         "name": "A",
         "opacity": 0.8,
         "orientation": "v",
         "type": "histogram",
         "x": [
          0.64268760681548,
          0.25434013810600997,
          0.036518715896362686,
          0.606254373298531,
          0.16104515234935757,
          0.3688319243446503,
          0.2175626743438791,
          0.1746196146755169,
          0.8075804139543974,
          0.5671151516477192,
          0.35088975343862505,
          0.8384501241742229,
          0.88694575287071,
          0.9069402338211425,
          0.18353024397269002,
          0.2604685820199051,
          0.914838344934065,
          0.9235222723730815,
          0.4976579349552325,
          0.1610707295242192,
          0.44788911359150063,
          0.6113748022389773,
          0.11700805653182578,
          0.5542496057525148,
          0.8894411237862465,
          0.7179333033018934,
          0.813744750478348,
          0.5193268536420699,
          0.012437236888512948,
          0.04949986767993575,
          0.8802162269293874,
          0.47496293717457894,
          0.8927229044059292,
          0.6421648738027389,
          0.7348341055142963,
          0.31014764285548935,
          0.3292345784644001,
          0.6330679749465086,
          0.1751256989464003,
          0.6767343973451351,
          0.47362151615843695,
          0.5478108480690577,
          0.23822180471708843,
          0.4388129086359761,
          0.37974424866782563,
          0.9493708425375422,
          0.017248758099984496,
          0.5957872071125576,
          0.3428437237198314,
          0.10738217024089758,
          0.2029658131893015,
          0.5010998308175081,
          0.20263262220798617,
          0.35995068631186955,
          0.34001889289587983,
          0.19573527703460625,
          0.44365552944193964,
          0.37760534626034925,
          0.16415089790282633,
          0.3347097424574679,
          0.8343959469678071,
          0.31439382970136165,
          0.817391600204265,
          0.33886957115919614,
          0.2618003355431282,
          0.21338916926442764,
          0.7084761789110533,
          0.06184963451606351,
          0.030264369743601804,
          0.9010301630750166,
          0.44953625370645955,
          0.6116581337996297,
          0.5412607270943913,
          0.11076172487778979,
          0.09620496512647825,
          0.13984041011108483,
          0.29904539079775316,
          0.07659108597334208,
          0.35482464388513935,
          0.003934033859923636,
          0.018903368572839585,
          0.5723914573292442,
          0.97983024823568,
          0.12456699955677553,
          0.36114899487750785,
          0.1960613794575341,
          0.5374832206578546,
          0.07819227928565842,
          0.9632108376451156,
          0.15161596843634417,
          0.6298010634310152,
          0.9102252781783302,
          0.6278004090835668,
          0.5385360422985342,
          0.4835252271898667,
          0.37799529903386664,
          0.3061056784587103,
          0.30504592553645415,
          0.8016437019124999,
          0.6838201792077553
         ]
        },
        {
         "histfunc": "count",
         "histnorm": "",
         "marker": {
          "color": "rgba(55, 128, 191, 1.0)",
          "line": {
           "color": "#4D5663",
           "width": 1.3
          }
         },
         "name": "B",
         "opacity": 0.8,
         "orientation": "v",
         "type": "histogram",
         "x": [
          0.21175801641383563,
          0.33230436434401445,
          0.25704592689826433,
          0.502920806651432,
          0.1921265016718996,
          0.9205983735293606,
          0.3205367825576395,
          0.8399215406389304,
          0.006497373987411792,
          0.33335264809319465,
          0.9018523603522912,
          0.77335204614671,
          0.18301972614258755,
          0.9723539090579634,
          0.00408678704953791,
          0.9184567255988328,
          0.8567913987316195,
          0.5435403674151005,
          0.6707315224623319,
          0.6480450489327688,
          0.8612097856129707,
          0.602399894295244,
          0.5903506969855847,
          0.9318007335975775,
          0.8902241882490337,
          0.36198555526433407,
          0.4577276057166686,
          0.027345963820404218,
          0.49522892747748193,
          0.11711026977728223,
          0.5363996519259667,
          0.34790150946682596,
          0.5935855620492523,
          0.16542374687469752,
          0.34675087943162675,
          0.3449669921696248,
          0.9335174849373113,
          0.9170003288081824,
          0.6949639048660065,
          0.5201390702772768,
          0.21814624142445493,
          0.7815640417981651,
          0.45478260006454274,
          0.6340670634024966,
          0.5187748671084158,
          0.249254936924171,
          0.3239591979070241,
          0.29647593314208376,
          0.7777934194392754,
          0.37495725191301255,
          0.003667001943881254,
          0.13897813720615904,
          0.835327831308287,
          0.5771746454854552,
          0.8602502422298781,
          0.8443586675273138,
          0.20192434840121132,
          0.7162764329768883,
          0.25683285916118326,
          0.005555547344806344,
          0.9360632620110824,
          0.545320700331258,
          0.25944738800133627,
          0.15128910510525162,
          0.5708943499086142,
          0.5158192109118456,
          0.7956753804432144,
          0.1034731691954981,
          0.8086673853274297,
          0.36617663198535744,
          0.2176729587297651,
          0.27141771132714465,
          0.3950858040698385,
          0.36565133577367426,
          0.37881198985095144,
          0.6901074338513444,
          0.9320227732126048,
          0.8907874086361287,
          0.3300799886774487,
          0.3865032034433865,
          0.6195094599870824,
          0.08801075179174711,
          0.3810500554054643,
          0.1594893022632019,
          0.01212410922365914,
          0.3675597137705109,
          0.3698061003204829,
          0.036256086191495895,
          0.6535245199946388,
          0.5167312249446588,
          0.4310002530466861,
          0.19424336988182844,
          0.4729236531817568,
          0.8094877116305121,
          0.5557606247065332,
          0.9837813033421858,
          0.47842365047883806,
          0.02350486468440749,
          0.6291981118304965,
          0.08110132812956783
         ]
        },
        {
         "histfunc": "count",
         "histnorm": "",
         "marker": {
          "color": "rgba(50, 171, 96, 1.0)",
          "line": {
           "color": "#4D5663",
           "width": 1.3
          }
         },
         "name": "C",
         "opacity": 0.8,
         "orientation": "v",
         "type": "histogram",
         "x": [
          0.5727596586245164,
          0.0603053981716577,
          0.5380612655683492,
          0.1577895552590134,
          0.5052179190138056,
          0.39475061089904373,
          0.6217766893686395,
          0.160972849336529,
          0.9907293393341832,
          0.7760321866769788,
          0.5293213612936739,
          0.18747445510569627,
          0.2289946567628115,
          0.736156626418724,
          0.8029285061551609,
          0.010265160569366105,
          0.9701297114133592,
          0.48897823060050005,
          0.9448780670136692,
          0.6160861497216099,
          0.26950441843517925,
          0.38672153814878063,
          0.30718079166905354,
          0.37903565941344686,
          0.8486558462484804,
          6.320324356334783e-05,
          0.9647479142764284,
          0.7483690510298429,
          0.51498621644541,
          0.7264773152865182,
          0.058750142149811335,
          0.05095877461256626,
          0.8548909783702159,
          0.3213825546946555,
          0.8478480003496816,
          0.354864187901507,
          0.4257058001238757,
          0.057811849028869045,
          0.06825651470147354,
          0.14751958938292253,
          0.6606498837732491,
          0.6217162067656825,
          0.5466258923653315,
          0.28645200782813895,
          0.529497995786216,
          0.6171465136569387,
          0.8272885428531614,
          0.9684877597633574,
          0.16029402702077666,
          0.3704080497868725,
          0.07231210663512633,
          0.817705488975935,
          0.22706675176501778,
          0.8262291651294906,
          0.35912570872430327,
          0.5446360141409768,
          0.37765902268318197,
          0.267647817850753,
          0.5026289931221091,
          0.3729758857880049,
          0.18098177762583856,
          0.8721612218554263,
          0.09003304897838815,
          0.6466449122928791,
          0.14480649178849958,
          0.1195863921809579,
          0.16647375037876788,
          0.23231355388555208,
          0.5583762101723513,
          0.46387510775246044,
          0.9478581966633126,
          0.34689663440111673,
          0.6416280102790077,
          0.5954495628645174,
          0.6959298976015292,
          0.8337370029269043,
          0.1626916678774375,
          0.11947082568920542,
          0.9420060765512094,
          0.18009665788492624,
          0.9103592360384584,
          0.6486394929622337,
          0.7117189719755516,
          0.031119717938719704,
          0.764365017655454,
          0.1982135996216554,
          0.46131534372704763,
          0.40969217428738014,
          0.2837201804084807,
          0.6487784345516832,
          0.5703381400436244,
          0.764556942060918,
          0.36286304599700425,
          0.28592657172142577,
          0.9774958326426046,
          0.6343087137162023,
          0.9561555344010725,
          0.25448073749899736,
          0.7601000136013831,
          0.820276107045662
         ]
        },
        {
         "histfunc": "count",
         "histnorm": "",
         "marker": {
          "color": "rgba(128, 0, 128, 1.0)",
          "line": {
           "color": "#4D5663",
           "width": 1.3
          }
         },
         "name": "D",
         "opacity": 0.8,
         "orientation": "v",
         "type": "histogram",
         "x": [
          0.004342415633113772,
          0.6492138356447251,
          0.7096874010020837,
          0.33796521469683183,
          0.3385882148015962,
          0.35314193386394777,
          0.9353351565339553,
          0.5214305371558716,
          0.8244357328400891,
          0.7981394645253215,
          0.02031839417902237,
          0.36108980165557314,
          0.0943601731126893,
          0.034055072092431304,
          0.4042500995242311,
          0.56427159702082,
          0.724939211638636,
          0.31230610894415856,
          0.19534490663041892,
          0.09270034108580072,
          0.5382827761653188,
          0.48083922603393836,
          0.2508727045986888,
          0.837284646447866,
          0.9262195725038666,
          0.6355102571712736,
          0.3066637899770356,
          0.8929699143300208,
          0.48959368818831794,
          0.5401607100539082,
          0.8654523743073371,
          0.9055423795957068,
          0.07095627557606932,
          0.936306555233858,
          0.6553722499666091,
          0.45707854364127654,
          0.3654959285039331,
          0.7084693141455777,
          0.6738351159961766,
          0.34402944063446617,
          0.8245817573589272,
          0.1830492535674444,
          0.35260276731693074,
          0.333783618758001,
          0.4199054961054346,
          0.757981565269154,
          0.5722244331695222,
          0.7846767966614093,
          0.6910127766028802,
          0.5559296181842222,
          0.23034980695845175,
          0.4364752729946493,
          0.17942955291803986,
          0.39979420830083645,
          0.10897411488031783,
          0.44671098283931865,
          0.658511038200644,
          0.7020425131415572,
          0.0684460269722228,
          0.27971981803530077,
          0.05404123199165145,
          0.5544033987794785,
          0.3571469866143959,
          0.9225691129187071,
          0.622180203804509,
          0.14260734449158374,
          0.38118590648807327,
          0.390845442075783,
          0.8307598257306419,
          0.55939338503728,
          0.25038795865385965,
          0.5169046003207575,
          0.2934109613783038,
          0.7421200404287189,
          0.07018148531891866,
          0.4350403489093665,
          0.2551852911524881,
          0.9746653321919624,
          0.41929528656636605,
          0.7890240183438036,
          0.313560987498672,
          0.04437300297343605,
          0.9296022239226268,
          0.8128655602837652,
          0.8563286164687003,
          0.7551341944076261,
          0.17745015734880365,
          0.4366556222208211,
          0.11066031014287836,
          0.7698353419109246,
          0.8668402724510466,
          0.908546368968219,
          0.8578958139928656,
          0.8073327395971879,
          0.6313341852046689,
          0.21960825168696807,
          0.06657535520345992,
          0.3908361498331703,
          0.4238947085373316,
          0.6986792061388722
         ]
        },
        {
         "histfunc": "count",
         "histnorm": "",
         "marker": {
          "color": "rgba(219, 64, 82, 1.0)",
          "line": {
           "color": "#4D5663",
           "width": 1.3
          }
         },
         "name": "E",
         "opacity": 0.8,
         "orientation": "v",
         "type": "histogram",
         "x": [
          0.800314539805002,
          0.8216180690634096,
          0.27628206493386087,
          0.5752689813509106,
          0.9894093193362177,
          0.38603140265267977,
          0.8979309168147845,
          0.1520150858161191,
          0.09252548745406108,
          0.6596715871752654,
          0.030487396932217692,
          0.7514866077276835,
          0.632821281401035,
          0.16551582802955145,
          0.04944732047131295,
          0.7805059218319176,
          0.5804117912355075,
          0.1981428949442673,
          0.2255016092154314,
          0.08617124983004942,
          0.5179404583688594,
          0.07455503724125045,
          0.44305629151694415,
          0.5654090129333891,
          0.2046919224599738,
          0.9646741884144482,
          0.3916514177186381,
          0.8187675801099134,
          0.8638446775626221,
          0.5161606453349665,
          0.11238856409704201,
          0.663240172285209,
          0.09210753818551598,
          0.09774133122186202,
          0.1268625134225161,
          0.9236362789805064,
          0.23532596836830222,
          0.9674748075725776,
          0.6766617209905683,
          0.5201721874324022,
          0.841123726402039,
          0.3635511142486719,
          0.5923440063489457,
          0.4151569525491656,
          0.31463118381039945,
          0.09483841102806079,
          0.46578786178038567,
          0.5050305981206697,
          0.860558615534798,
          0.061651324787719286,
          0.7839352989596489,
          0.5482696554685561,
          0.416098361146075,
          0.9901457935823484,
          0.42750475421454126,
          0.5624263846640235,
          0.5568542183582857,
          0.1101126988580512,
          0.5042381114393079,
          0.5636403145288714,
          0.7635651449123783,
          0.12368367244179312,
          0.4191818892452692,
          0.22545951309136758,
          0.2562441999113908,
          0.48251330331611697,
          0.8616451558182942,
          0.5215609929222349,
          0.06912995697406099,
          0.7814460770067992,
          0.16458948135282025,
          0.2996939303026175,
          0.25283998558118415,
          0.29058195532754827,
          0.7023917592795575,
          0.4571796046694647,
          0.48168647654599805,
          0.7059051692367683,
          0.5792350631596898,
          0.2932465099533398,
          0.46000950595722745,
          0.013101224276481083,
          0.7983749186135475,
          0.7330093548474274,
          0.9761853302935715,
          0.4487836125961101,
          0.4445279423345423,
          0.5850952845699743,
          0.7850107051945988,
          0.3729648602039718,
          0.6472556027407442,
          0.2333807083381092,
          0.8273679223117694,
          0.3613908468213125,
          0.4723573583101316,
          0.8054778342436136,
          0.2953485998182528,
          0.23690231657856298,
          0.9654836606589606,
          0.27863661435798914
         ]
        }
       ],
       "layout": {
        "barmode": "overlay",
        "legend": {
         "bgcolor": "#F5F6F9",
         "font": {
          "color": "#4D5663"
         }
        },
        "paper_bgcolor": "#F5F6F9",
        "plot_bgcolor": "#F5F6F9",
        "template": {
         "data": {
          "bar": [
           {
            "error_x": {
             "color": "#2a3f5f"
            },
            "error_y": {
             "color": "#2a3f5f"
            },
            "marker": {
             "line": {
              "color": "#E5ECF6",
              "width": 0.5
             },
             "pattern": {
              "fillmode": "overlay",
              "size": 10,
              "solidity": 0.2
             }
            },
            "type": "bar"
           }
          ],
          "barpolar": [
           {
            "marker": {
             "line": {
              "color": "#E5ECF6",
              "width": 0.5
             },
             "pattern": {
              "fillmode": "overlay",
              "size": 10,
              "solidity": 0.2
             }
            },
            "type": "barpolar"
           }
          ],
          "carpet": [
           {
            "aaxis": {
             "endlinecolor": "#2a3f5f",
             "gridcolor": "white",
             "linecolor": "white",
             "minorgridcolor": "white",
             "startlinecolor": "#2a3f5f"
            },
            "baxis": {
             "endlinecolor": "#2a3f5f",
             "gridcolor": "white",
             "linecolor": "white",
             "minorgridcolor": "white",
             "startlinecolor": "#2a3f5f"
            },
            "type": "carpet"
           }
          ],
          "choropleth": [
           {
            "colorbar": {
             "outlinewidth": 0,
             "ticks": ""
            },
            "type": "choropleth"
           }
          ],
          "contour": [
           {
            "colorbar": {
             "outlinewidth": 0,
             "ticks": ""
            },
            "colorscale": [
             [
              0,
              "#0d0887"
             ],
             [
              0.1111111111111111,
              "#46039f"
             ],
             [
              0.2222222222222222,
              "#7201a8"
             ],
             [
              0.3333333333333333,
              "#9c179e"
             ],
             [
              0.4444444444444444,
              "#bd3786"
             ],
             [
              0.5555555555555556,
              "#d8576b"
             ],
             [
              0.6666666666666666,
              "#ed7953"
             ],
             [
              0.7777777777777778,
              "#fb9f3a"
             ],
             [
              0.8888888888888888,
              "#fdca26"
             ],
             [
              1,
              "#f0f921"
             ]
            ],
            "type": "contour"
           }
          ],
          "contourcarpet": [
           {
            "colorbar": {
             "outlinewidth": 0,
             "ticks": ""
            },
            "type": "contourcarpet"
           }
          ],
          "heatmap": [
           {
            "colorbar": {
             "outlinewidth": 0,
             "ticks": ""
            },
            "colorscale": [
             [
              0,
              "#0d0887"
             ],
             [
              0.1111111111111111,
              "#46039f"
             ],
             [
              0.2222222222222222,
              "#7201a8"
             ],
             [
              0.3333333333333333,
              "#9c179e"
             ],
             [
              0.4444444444444444,
              "#bd3786"
             ],
             [
              0.5555555555555556,
              "#d8576b"
             ],
             [
              0.6666666666666666,
              "#ed7953"
             ],
             [
              0.7777777777777778,
              "#fb9f3a"
             ],
             [
              0.8888888888888888,
              "#fdca26"
             ],
             [
              1,
              "#f0f921"
             ]
            ],
            "type": "heatmap"
           }
          ],
          "heatmapgl": [
           {
            "colorbar": {
             "outlinewidth": 0,
             "ticks": ""
            },
            "colorscale": [
             [
              0,
              "#0d0887"
             ],
             [
              0.1111111111111111,
              "#46039f"
             ],
             [
              0.2222222222222222,
              "#7201a8"
             ],
             [
              0.3333333333333333,
              "#9c179e"
             ],
             [
              0.4444444444444444,
              "#bd3786"
             ],
             [
              0.5555555555555556,
              "#d8576b"
             ],
             [
              0.6666666666666666,
              "#ed7953"
             ],
             [
              0.7777777777777778,
              "#fb9f3a"
             ],
             [
              0.8888888888888888,
              "#fdca26"
             ],
             [
              1,
              "#f0f921"
             ]
            ],
            "type": "heatmapgl"
           }
          ],
          "histogram": [
           {
            "marker": {
             "pattern": {
              "fillmode": "overlay",
              "size": 10,
              "solidity": 0.2
             }
            },
            "type": "histogram"
           }
          ],
          "histogram2d": [
           {
            "colorbar": {
             "outlinewidth": 0,
             "ticks": ""
            },
            "colorscale": [
             [
              0,
              "#0d0887"
             ],
             [
              0.1111111111111111,
              "#46039f"
             ],
             [
              0.2222222222222222,
              "#7201a8"
             ],
             [
              0.3333333333333333,
              "#9c179e"
             ],
             [
              0.4444444444444444,
              "#bd3786"
             ],
             [
              0.5555555555555556,
              "#d8576b"
             ],
             [
              0.6666666666666666,
              "#ed7953"
             ],
             [
              0.7777777777777778,
              "#fb9f3a"
             ],
             [
              0.8888888888888888,
              "#fdca26"
             ],
             [
              1,
              "#f0f921"
             ]
            ],
            "type": "histogram2d"
           }
          ],
          "histogram2dcontour": [
           {
            "colorbar": {
             "outlinewidth": 0,
             "ticks": ""
            },
            "colorscale": [
             [
              0,
              "#0d0887"
             ],
             [
              0.1111111111111111,
              "#46039f"
             ],
             [
              0.2222222222222222,
              "#7201a8"
             ],
             [
              0.3333333333333333,
              "#9c179e"
             ],
             [
              0.4444444444444444,
              "#bd3786"
             ],
             [
              0.5555555555555556,
              "#d8576b"
             ],
             [
              0.6666666666666666,
              "#ed7953"
             ],
             [
              0.7777777777777778,
              "#fb9f3a"
             ],
             [
              0.8888888888888888,
              "#fdca26"
             ],
             [
              1,
              "#f0f921"
             ]
            ],
            "type": "histogram2dcontour"
           }
          ],
          "mesh3d": [
           {
            "colorbar": {
             "outlinewidth": 0,
             "ticks": ""
            },
            "type": "mesh3d"
           }
          ],
          "parcoords": [
           {
            "line": {
             "colorbar": {
              "outlinewidth": 0,
              "ticks": ""
             }
            },
            "type": "parcoords"
           }
          ],
          "pie": [
           {
            "automargin": true,
            "type": "pie"
           }
          ],
          "scatter": [
           {
            "marker": {
             "colorbar": {
              "outlinewidth": 0,
              "ticks": ""
             }
            },
            "type": "scatter"
           }
          ],
          "scatter3d": [
           {
            "line": {
             "colorbar": {
              "outlinewidth": 0,
              "ticks": ""
             }
            },
            "marker": {
             "colorbar": {
              "outlinewidth": 0,
              "ticks": ""
             }
            },
            "type": "scatter3d"
           }
          ],
          "scattercarpet": [
           {
            "marker": {
             "colorbar": {
              "outlinewidth": 0,
              "ticks": ""
             }
            },
            "type": "scattercarpet"
           }
          ],
          "scattergeo": [
           {
            "marker": {
             "colorbar": {
              "outlinewidth": 0,
              "ticks": ""
             }
            },
            "type": "scattergeo"
           }
          ],
          "scattergl": [
           {
            "marker": {
             "colorbar": {
              "outlinewidth": 0,
              "ticks": ""
             }
            },
            "type": "scattergl"
           }
          ],
          "scattermapbox": [
           {
            "marker": {
             "colorbar": {
              "outlinewidth": 0,
              "ticks": ""
             }
            },
            "type": "scattermapbox"
           }
          ],
          "scatterpolar": [
           {
            "marker": {
             "colorbar": {
              "outlinewidth": 0,
              "ticks": ""
             }
            },
            "type": "scatterpolar"
           }
          ],
          "scatterpolargl": [
           {
            "marker": {
             "colorbar": {
              "outlinewidth": 0,
              "ticks": ""
             }
            },
            "type": "scatterpolargl"
           }
          ],
          "scatterternary": [
           {
            "marker": {
             "colorbar": {
              "outlinewidth": 0,
              "ticks": ""
             }
            },
            "type": "scatterternary"
           }
          ],
          "surface": [
           {
            "colorbar": {
             "outlinewidth": 0,
             "ticks": ""
            },
            "colorscale": [
             [
              0,
              "#0d0887"
             ],
             [
              0.1111111111111111,
              "#46039f"
             ],
             [
              0.2222222222222222,
              "#7201a8"
             ],
             [
              0.3333333333333333,
              "#9c179e"
             ],
             [
              0.4444444444444444,
              "#bd3786"
             ],
             [
              0.5555555555555556,
              "#d8576b"
             ],
             [
              0.6666666666666666,
              "#ed7953"
             ],
             [
              0.7777777777777778,
              "#fb9f3a"
             ],
             [
              0.8888888888888888,
              "#fdca26"
             ],
             [
              1,
              "#f0f921"
             ]
            ],
            "type": "surface"
           }
          ],
          "table": [
           {
            "cells": {
             "fill": {
              "color": "#EBF0F8"
             },
             "line": {
              "color": "white"
             }
            },
            "header": {
             "fill": {
              "color": "#C8D4E3"
             },
             "line": {
              "color": "white"
             }
            },
            "type": "table"
           }
          ]
         },
         "layout": {
          "annotationdefaults": {
           "arrowcolor": "#2a3f5f",
           "arrowhead": 0,
           "arrowwidth": 1
          },
          "autotypenumbers": "strict",
          "coloraxis": {
           "colorbar": {
            "outlinewidth": 0,
            "ticks": ""
           }
          },
          "colorscale": {
           "diverging": [
            [
             0,
             "#8e0152"
            ],
            [
             0.1,
             "#c51b7d"
            ],
            [
             0.2,
             "#de77ae"
            ],
            [
             0.3,
             "#f1b6da"
            ],
            [
             0.4,
             "#fde0ef"
            ],
            [
             0.5,
             "#f7f7f7"
            ],
            [
             0.6,
             "#e6f5d0"
            ],
            [
             0.7,
             "#b8e186"
            ],
            [
             0.8,
             "#7fbc41"
            ],
            [
             0.9,
             "#4d9221"
            ],
            [
             1,
             "#276419"
            ]
           ],
           "sequential": [
            [
             0,
             "#0d0887"
            ],
            [
             0.1111111111111111,
             "#46039f"
            ],
            [
             0.2222222222222222,
             "#7201a8"
            ],
            [
             0.3333333333333333,
             "#9c179e"
            ],
            [
             0.4444444444444444,
             "#bd3786"
            ],
            [
             0.5555555555555556,
             "#d8576b"
            ],
            [
             0.6666666666666666,
             "#ed7953"
            ],
            [
             0.7777777777777778,
             "#fb9f3a"
            ],
            [
             0.8888888888888888,
             "#fdca26"
            ],
            [
             1,
             "#f0f921"
            ]
           ],
           "sequentialminus": [
            [
             0,
             "#0d0887"
            ],
            [
             0.1111111111111111,
             "#46039f"
            ],
            [
             0.2222222222222222,
             "#7201a8"
            ],
            [
             0.3333333333333333,
             "#9c179e"
            ],
            [
             0.4444444444444444,
             "#bd3786"
            ],
            [
             0.5555555555555556,
             "#d8576b"
            ],
            [
             0.6666666666666666,
             "#ed7953"
            ],
            [
             0.7777777777777778,
             "#fb9f3a"
            ],
            [
             0.8888888888888888,
             "#fdca26"
            ],
            [
             1,
             "#f0f921"
            ]
           ]
          },
          "colorway": [
           "#636efa",
           "#EF553B",
           "#00cc96",
           "#ab63fa",
           "#FFA15A",
           "#19d3f3",
           "#FF6692",
           "#B6E880",
           "#FF97FF",
           "#FECB52"
          ],
          "font": {
           "color": "#2a3f5f"
          },
          "geo": {
           "bgcolor": "white",
           "lakecolor": "white",
           "landcolor": "#E5ECF6",
           "showlakes": true,
           "showland": true,
           "subunitcolor": "white"
          },
          "hoverlabel": {
           "align": "left"
          },
          "hovermode": "closest",
          "mapbox": {
           "style": "light"
          },
          "paper_bgcolor": "white",
          "plot_bgcolor": "#E5ECF6",
          "polar": {
           "angularaxis": {
            "gridcolor": "white",
            "linecolor": "white",
            "ticks": ""
           },
           "bgcolor": "#E5ECF6",
           "radialaxis": {
            "gridcolor": "white",
            "linecolor": "white",
            "ticks": ""
           }
          },
          "scene": {
           "xaxis": {
            "backgroundcolor": "#E5ECF6",
            "gridcolor": "white",
            "gridwidth": 2,
            "linecolor": "white",
            "showbackground": true,
            "ticks": "",
            "zerolinecolor": "white"
           },
           "yaxis": {
            "backgroundcolor": "#E5ECF6",
            "gridcolor": "white",
            "gridwidth": 2,
            "linecolor": "white",
            "showbackground": true,
            "ticks": "",
            "zerolinecolor": "white"
           },
           "zaxis": {
            "backgroundcolor": "#E5ECF6",
            "gridcolor": "white",
            "gridwidth": 2,
            "linecolor": "white",
            "showbackground": true,
            "ticks": "",
            "zerolinecolor": "white"
           }
          },
          "shapedefaults": {
           "line": {
            "color": "#2a3f5f"
           }
          },
          "ternary": {
           "aaxis": {
            "gridcolor": "white",
            "linecolor": "white",
            "ticks": ""
           },
           "baxis": {
            "gridcolor": "white",
            "linecolor": "white",
            "ticks": ""
           },
           "bgcolor": "#E5ECF6",
           "caxis": {
            "gridcolor": "white",
            "linecolor": "white",
            "ticks": ""
           }
          },
          "title": {
           "x": 0.05
          },
          "xaxis": {
           "automargin": true,
           "gridcolor": "white",
           "linecolor": "white",
           "ticks": "",
           "title": {
            "standoff": 15
           },
           "zerolinecolor": "white",
           "zerolinewidth": 2
          },
          "yaxis": {
           "automargin": true,
           "gridcolor": "white",
           "linecolor": "white",
           "ticks": "",
           "title": {
            "standoff": 15
           },
           "zerolinecolor": "white",
           "zerolinewidth": 2
          }
         }
        },
        "title": {
         "font": {
          "color": "#4D5663"
         }
        },
        "xaxis": {
         "gridcolor": "#E1E5ED",
         "showgrid": true,
         "tickfont": {
          "color": "#4D5663"
         },
         "title": {
          "font": {
           "color": "#4D5663"
          },
          "text": ""
         },
         "zerolinecolor": "#E1E5ED"
        },
        "yaxis": {
         "gridcolor": "#E1E5ED",
         "showgrid": true,
         "tickfont": {
          "color": "#4D5663"
         },
         "title": {
          "font": {
           "color": "#4D5663"
          },
          "text": ""
         },
         "zerolinecolor": "#E1E5ED"
        }
       }
      },
      "text/html": [
       "<div>                            <div id=\"a775284b-0916-480e-8daa-08bee54263dc\" class=\"plotly-graph-div\" style=\"height:525px; width:100%;\"></div>            <script type=\"text/javascript\">                require([\"plotly\"], function(Plotly) {                    window.PLOTLYENV=window.PLOTLYENV || {};\n",
       "                    window.PLOTLYENV.BASE_URL='https://plot.ly';                                    if (document.getElementById(\"a775284b-0916-480e-8daa-08bee54263dc\")) {                    Plotly.newPlot(                        \"a775284b-0916-480e-8daa-08bee54263dc\",                        [{\"histfunc\":\"count\",\"histnorm\":\"\",\"marker\":{\"color\":\"rgba(255, 153, 51, 1.0)\",\"line\":{\"color\":\"#4D5663\",\"width\":1.3}},\"name\":\"A\",\"opacity\":0.8,\"orientation\":\"v\",\"x\":[0.64268760681548,0.25434013810600997,0.036518715896362686,0.606254373298531,0.16104515234935757,0.3688319243446503,0.2175626743438791,0.1746196146755169,0.8075804139543974,0.5671151516477192,0.35088975343862505,0.8384501241742229,0.88694575287071,0.9069402338211425,0.18353024397269002,0.2604685820199051,0.914838344934065,0.9235222723730815,0.4976579349552325,0.1610707295242192,0.44788911359150063,0.6113748022389773,0.11700805653182578,0.5542496057525148,0.8894411237862465,0.7179333033018934,0.813744750478348,0.5193268536420699,0.012437236888512948,0.04949986767993575,0.8802162269293874,0.47496293717457894,0.8927229044059292,0.6421648738027389,0.7348341055142963,0.31014764285548935,0.3292345784644001,0.6330679749465086,0.1751256989464003,0.6767343973451351,0.47362151615843695,0.5478108480690577,0.23822180471708843,0.4388129086359761,0.37974424866782563,0.9493708425375422,0.017248758099984496,0.5957872071125576,0.3428437237198314,0.10738217024089758,0.2029658131893015,0.5010998308175081,0.20263262220798617,0.35995068631186955,0.34001889289587983,0.19573527703460625,0.44365552944193964,0.37760534626034925,0.16415089790282633,0.3347097424574679,0.8343959469678071,0.31439382970136165,0.817391600204265,0.33886957115919614,0.2618003355431282,0.21338916926442764,0.7084761789110533,0.06184963451606351,0.030264369743601804,0.9010301630750166,0.44953625370645955,0.6116581337996297,0.5412607270943913,0.11076172487778979,0.09620496512647825,0.13984041011108483,0.29904539079775316,0.07659108597334208,0.35482464388513935,0.003934033859923636,0.018903368572839585,0.5723914573292442,0.97983024823568,0.12456699955677553,0.36114899487750785,0.1960613794575341,0.5374832206578546,0.07819227928565842,0.9632108376451156,0.15161596843634417,0.6298010634310152,0.9102252781783302,0.6278004090835668,0.5385360422985342,0.4835252271898667,0.37799529903386664,0.3061056784587103,0.30504592553645415,0.8016437019124999,0.6838201792077553],\"type\":\"histogram\"},{\"histfunc\":\"count\",\"histnorm\":\"\",\"marker\":{\"color\":\"rgba(55, 128, 191, 1.0)\",\"line\":{\"color\":\"#4D5663\",\"width\":1.3}},\"name\":\"B\",\"opacity\":0.8,\"orientation\":\"v\",\"x\":[0.21175801641383563,0.33230436434401445,0.25704592689826433,0.502920806651432,0.1921265016718996,0.9205983735293606,0.3205367825576395,0.8399215406389304,0.006497373987411792,0.33335264809319465,0.9018523603522912,0.77335204614671,0.18301972614258755,0.9723539090579634,0.00408678704953791,0.9184567255988328,0.8567913987316195,0.5435403674151005,0.6707315224623319,0.6480450489327688,0.8612097856129707,0.602399894295244,0.5903506969855847,0.9318007335975775,0.8902241882490337,0.36198555526433407,0.4577276057166686,0.027345963820404218,0.49522892747748193,0.11711026977728223,0.5363996519259667,0.34790150946682596,0.5935855620492523,0.16542374687469752,0.34675087943162675,0.3449669921696248,0.9335174849373113,0.9170003288081824,0.6949639048660065,0.5201390702772768,0.21814624142445493,0.7815640417981651,0.45478260006454274,0.6340670634024966,0.5187748671084158,0.249254936924171,0.3239591979070241,0.29647593314208376,0.7777934194392754,0.37495725191301255,0.003667001943881254,0.13897813720615904,0.835327831308287,0.5771746454854552,0.8602502422298781,0.8443586675273138,0.20192434840121132,0.7162764329768883,0.25683285916118326,0.005555547344806344,0.9360632620110824,0.545320700331258,0.25944738800133627,0.15128910510525162,0.5708943499086142,0.5158192109118456,0.7956753804432144,0.1034731691954981,0.8086673853274297,0.36617663198535744,0.2176729587297651,0.27141771132714465,0.3950858040698385,0.36565133577367426,0.37881198985095144,0.6901074338513444,0.9320227732126048,0.8907874086361287,0.3300799886774487,0.3865032034433865,0.6195094599870824,0.08801075179174711,0.3810500554054643,0.1594893022632019,0.01212410922365914,0.3675597137705109,0.3698061003204829,0.036256086191495895,0.6535245199946388,0.5167312249446588,0.4310002530466861,0.19424336988182844,0.4729236531817568,0.8094877116305121,0.5557606247065332,0.9837813033421858,0.47842365047883806,0.02350486468440749,0.6291981118304965,0.08110132812956783],\"type\":\"histogram\"},{\"histfunc\":\"count\",\"histnorm\":\"\",\"marker\":{\"color\":\"rgba(50, 171, 96, 1.0)\",\"line\":{\"color\":\"#4D5663\",\"width\":1.3}},\"name\":\"C\",\"opacity\":0.8,\"orientation\":\"v\",\"x\":[0.5727596586245164,0.0603053981716577,0.5380612655683492,0.1577895552590134,0.5052179190138056,0.39475061089904373,0.6217766893686395,0.160972849336529,0.9907293393341832,0.7760321866769788,0.5293213612936739,0.18747445510569627,0.2289946567628115,0.736156626418724,0.8029285061551609,0.010265160569366105,0.9701297114133592,0.48897823060050005,0.9448780670136692,0.6160861497216099,0.26950441843517925,0.38672153814878063,0.30718079166905354,0.37903565941344686,0.8486558462484804,6.320324356334783e-05,0.9647479142764284,0.7483690510298429,0.51498621644541,0.7264773152865182,0.058750142149811335,0.05095877461256626,0.8548909783702159,0.3213825546946555,0.8478480003496816,0.354864187901507,0.4257058001238757,0.057811849028869045,0.06825651470147354,0.14751958938292253,0.6606498837732491,0.6217162067656825,0.5466258923653315,0.28645200782813895,0.529497995786216,0.6171465136569387,0.8272885428531614,0.9684877597633574,0.16029402702077666,0.3704080497868725,0.07231210663512633,0.817705488975935,0.22706675176501778,0.8262291651294906,0.35912570872430327,0.5446360141409768,0.37765902268318197,0.267647817850753,0.5026289931221091,0.3729758857880049,0.18098177762583856,0.8721612218554263,0.09003304897838815,0.6466449122928791,0.14480649178849958,0.1195863921809579,0.16647375037876788,0.23231355388555208,0.5583762101723513,0.46387510775246044,0.9478581966633126,0.34689663440111673,0.6416280102790077,0.5954495628645174,0.6959298976015292,0.8337370029269043,0.1626916678774375,0.11947082568920542,0.9420060765512094,0.18009665788492624,0.9103592360384584,0.6486394929622337,0.7117189719755516,0.031119717938719704,0.764365017655454,0.1982135996216554,0.46131534372704763,0.40969217428738014,0.2837201804084807,0.6487784345516832,0.5703381400436244,0.764556942060918,0.36286304599700425,0.28592657172142577,0.9774958326426046,0.6343087137162023,0.9561555344010725,0.25448073749899736,0.7601000136013831,0.820276107045662],\"type\":\"histogram\"},{\"histfunc\":\"count\",\"histnorm\":\"\",\"marker\":{\"color\":\"rgba(128, 0, 128, 1.0)\",\"line\":{\"color\":\"#4D5663\",\"width\":1.3}},\"name\":\"D\",\"opacity\":0.8,\"orientation\":\"v\",\"x\":[0.004342415633113772,0.6492138356447251,0.7096874010020837,0.33796521469683183,0.3385882148015962,0.35314193386394777,0.9353351565339553,0.5214305371558716,0.8244357328400891,0.7981394645253215,0.02031839417902237,0.36108980165557314,0.0943601731126893,0.034055072092431304,0.4042500995242311,0.56427159702082,0.724939211638636,0.31230610894415856,0.19534490663041892,0.09270034108580072,0.5382827761653188,0.48083922603393836,0.2508727045986888,0.837284646447866,0.9262195725038666,0.6355102571712736,0.3066637899770356,0.8929699143300208,0.48959368818831794,0.5401607100539082,0.8654523743073371,0.9055423795957068,0.07095627557606932,0.936306555233858,0.6553722499666091,0.45707854364127654,0.3654959285039331,0.7084693141455777,0.6738351159961766,0.34402944063446617,0.8245817573589272,0.1830492535674444,0.35260276731693074,0.333783618758001,0.4199054961054346,0.757981565269154,0.5722244331695222,0.7846767966614093,0.6910127766028802,0.5559296181842222,0.23034980695845175,0.4364752729946493,0.17942955291803986,0.39979420830083645,0.10897411488031783,0.44671098283931865,0.658511038200644,0.7020425131415572,0.0684460269722228,0.27971981803530077,0.05404123199165145,0.5544033987794785,0.3571469866143959,0.9225691129187071,0.622180203804509,0.14260734449158374,0.38118590648807327,0.390845442075783,0.8307598257306419,0.55939338503728,0.25038795865385965,0.5169046003207575,0.2934109613783038,0.7421200404287189,0.07018148531891866,0.4350403489093665,0.2551852911524881,0.9746653321919624,0.41929528656636605,0.7890240183438036,0.313560987498672,0.04437300297343605,0.9296022239226268,0.8128655602837652,0.8563286164687003,0.7551341944076261,0.17745015734880365,0.4366556222208211,0.11066031014287836,0.7698353419109246,0.8668402724510466,0.908546368968219,0.8578958139928656,0.8073327395971879,0.6313341852046689,0.21960825168696807,0.06657535520345992,0.3908361498331703,0.4238947085373316,0.6986792061388722],\"type\":\"histogram\"},{\"histfunc\":\"count\",\"histnorm\":\"\",\"marker\":{\"color\":\"rgba(219, 64, 82, 1.0)\",\"line\":{\"color\":\"#4D5663\",\"width\":1.3}},\"name\":\"E\",\"opacity\":0.8,\"orientation\":\"v\",\"x\":[0.800314539805002,0.8216180690634096,0.27628206493386087,0.5752689813509106,0.9894093193362177,0.38603140265267977,0.8979309168147845,0.1520150858161191,0.09252548745406108,0.6596715871752654,0.030487396932217692,0.7514866077276835,0.632821281401035,0.16551582802955145,0.04944732047131295,0.7805059218319176,0.5804117912355075,0.1981428949442673,0.2255016092154314,0.08617124983004942,0.5179404583688594,0.07455503724125045,0.44305629151694415,0.5654090129333891,0.2046919224599738,0.9646741884144482,0.3916514177186381,0.8187675801099134,0.8638446775626221,0.5161606453349665,0.11238856409704201,0.663240172285209,0.09210753818551598,0.09774133122186202,0.1268625134225161,0.9236362789805064,0.23532596836830222,0.9674748075725776,0.6766617209905683,0.5201721874324022,0.841123726402039,0.3635511142486719,0.5923440063489457,0.4151569525491656,0.31463118381039945,0.09483841102806079,0.46578786178038567,0.5050305981206697,0.860558615534798,0.061651324787719286,0.7839352989596489,0.5482696554685561,0.416098361146075,0.9901457935823484,0.42750475421454126,0.5624263846640235,0.5568542183582857,0.1101126988580512,0.5042381114393079,0.5636403145288714,0.7635651449123783,0.12368367244179312,0.4191818892452692,0.22545951309136758,0.2562441999113908,0.48251330331611697,0.8616451558182942,0.5215609929222349,0.06912995697406099,0.7814460770067992,0.16458948135282025,0.2996939303026175,0.25283998558118415,0.29058195532754827,0.7023917592795575,0.4571796046694647,0.48168647654599805,0.7059051692367683,0.5792350631596898,0.2932465099533398,0.46000950595722745,0.013101224276481083,0.7983749186135475,0.7330093548474274,0.9761853302935715,0.4487836125961101,0.4445279423345423,0.5850952845699743,0.7850107051945988,0.3729648602039718,0.6472556027407442,0.2333807083381092,0.8273679223117694,0.3613908468213125,0.4723573583101316,0.8054778342436136,0.2953485998182528,0.23690231657856298,0.9654836606589606,0.27863661435798914],\"type\":\"histogram\"}],                        {\"barmode\":\"overlay\",\"legend\":{\"bgcolor\":\"#F5F6F9\",\"font\":{\"color\":\"#4D5663\"}},\"paper_bgcolor\":\"#F5F6F9\",\"plot_bgcolor\":\"#F5F6F9\",\"template\":{\"data\":{\"barpolar\":[{\"marker\":{\"line\":{\"color\":\"#E5ECF6\",\"width\":0.5},\"pattern\":{\"fillmode\":\"overlay\",\"size\":10,\"solidity\":0.2}},\"type\":\"barpolar\"}],\"bar\":[{\"error_x\":{\"color\":\"#2a3f5f\"},\"error_y\":{\"color\":\"#2a3f5f\"},\"marker\":{\"line\":{\"color\":\"#E5ECF6\",\"width\":0.5},\"pattern\":{\"fillmode\":\"overlay\",\"size\":10,\"solidity\":0.2}},\"type\":\"bar\"}],\"carpet\":[{\"aaxis\":{\"endlinecolor\":\"#2a3f5f\",\"gridcolor\":\"white\",\"linecolor\":\"white\",\"minorgridcolor\":\"white\",\"startlinecolor\":\"#2a3f5f\"},\"baxis\":{\"endlinecolor\":\"#2a3f5f\",\"gridcolor\":\"white\",\"linecolor\":\"white\",\"minorgridcolor\":\"white\",\"startlinecolor\":\"#2a3f5f\"},\"type\":\"carpet\"}],\"choropleth\":[{\"colorbar\":{\"outlinewidth\":0,\"ticks\":\"\"},\"type\":\"choropleth\"}],\"contourcarpet\":[{\"colorbar\":{\"outlinewidth\":0,\"ticks\":\"\"},\"type\":\"contourcarpet\"}],\"contour\":[{\"colorbar\":{\"outlinewidth\":0,\"ticks\":\"\"},\"colorscale\":[[0.0,\"#0d0887\"],[0.1111111111111111,\"#46039f\"],[0.2222222222222222,\"#7201a8\"],[0.3333333333333333,\"#9c179e\"],[0.4444444444444444,\"#bd3786\"],[0.5555555555555556,\"#d8576b\"],[0.6666666666666666,\"#ed7953\"],[0.7777777777777778,\"#fb9f3a\"],[0.8888888888888888,\"#fdca26\"],[1.0,\"#f0f921\"]],\"type\":\"contour\"}],\"heatmapgl\":[{\"colorbar\":{\"outlinewidth\":0,\"ticks\":\"\"},\"colorscale\":[[0.0,\"#0d0887\"],[0.1111111111111111,\"#46039f\"],[0.2222222222222222,\"#7201a8\"],[0.3333333333333333,\"#9c179e\"],[0.4444444444444444,\"#bd3786\"],[0.5555555555555556,\"#d8576b\"],[0.6666666666666666,\"#ed7953\"],[0.7777777777777778,\"#fb9f3a\"],[0.8888888888888888,\"#fdca26\"],[1.0,\"#f0f921\"]],\"type\":\"heatmapgl\"}],\"heatmap\":[{\"colorbar\":{\"outlinewidth\":0,\"ticks\":\"\"},\"colorscale\":[[0.0,\"#0d0887\"],[0.1111111111111111,\"#46039f\"],[0.2222222222222222,\"#7201a8\"],[0.3333333333333333,\"#9c179e\"],[0.4444444444444444,\"#bd3786\"],[0.5555555555555556,\"#d8576b\"],[0.6666666666666666,\"#ed7953\"],[0.7777777777777778,\"#fb9f3a\"],[0.8888888888888888,\"#fdca26\"],[1.0,\"#f0f921\"]],\"type\":\"heatmap\"}],\"histogram2dcontour\":[{\"colorbar\":{\"outlinewidth\":0,\"ticks\":\"\"},\"colorscale\":[[0.0,\"#0d0887\"],[0.1111111111111111,\"#46039f\"],[0.2222222222222222,\"#7201a8\"],[0.3333333333333333,\"#9c179e\"],[0.4444444444444444,\"#bd3786\"],[0.5555555555555556,\"#d8576b\"],[0.6666666666666666,\"#ed7953\"],[0.7777777777777778,\"#fb9f3a\"],[0.8888888888888888,\"#fdca26\"],[1.0,\"#f0f921\"]],\"type\":\"histogram2dcontour\"}],\"histogram2d\":[{\"colorbar\":{\"outlinewidth\":0,\"ticks\":\"\"},\"colorscale\":[[0.0,\"#0d0887\"],[0.1111111111111111,\"#46039f\"],[0.2222222222222222,\"#7201a8\"],[0.3333333333333333,\"#9c179e\"],[0.4444444444444444,\"#bd3786\"],[0.5555555555555556,\"#d8576b\"],[0.6666666666666666,\"#ed7953\"],[0.7777777777777778,\"#fb9f3a\"],[0.8888888888888888,\"#fdca26\"],[1.0,\"#f0f921\"]],\"type\":\"histogram2d\"}],\"histogram\":[{\"marker\":{\"pattern\":{\"fillmode\":\"overlay\",\"size\":10,\"solidity\":0.2}},\"type\":\"histogram\"}],\"mesh3d\":[{\"colorbar\":{\"outlinewidth\":0,\"ticks\":\"\"},\"type\":\"mesh3d\"}],\"parcoords\":[{\"line\":{\"colorbar\":{\"outlinewidth\":0,\"ticks\":\"\"}},\"type\":\"parcoords\"}],\"pie\":[{\"automargin\":true,\"type\":\"pie\"}],\"scatter3d\":[{\"line\":{\"colorbar\":{\"outlinewidth\":0,\"ticks\":\"\"}},\"marker\":{\"colorbar\":{\"outlinewidth\":0,\"ticks\":\"\"}},\"type\":\"scatter3d\"}],\"scattercarpet\":[{\"marker\":{\"colorbar\":{\"outlinewidth\":0,\"ticks\":\"\"}},\"type\":\"scattercarpet\"}],\"scattergeo\":[{\"marker\":{\"colorbar\":{\"outlinewidth\":0,\"ticks\":\"\"}},\"type\":\"scattergeo\"}],\"scattergl\":[{\"marker\":{\"colorbar\":{\"outlinewidth\":0,\"ticks\":\"\"}},\"type\":\"scattergl\"}],\"scattermapbox\":[{\"marker\":{\"colorbar\":{\"outlinewidth\":0,\"ticks\":\"\"}},\"type\":\"scattermapbox\"}],\"scatterpolargl\":[{\"marker\":{\"colorbar\":{\"outlinewidth\":0,\"ticks\":\"\"}},\"type\":\"scatterpolargl\"}],\"scatterpolar\":[{\"marker\":{\"colorbar\":{\"outlinewidth\":0,\"ticks\":\"\"}},\"type\":\"scatterpolar\"}],\"scatter\":[{\"marker\":{\"colorbar\":{\"outlinewidth\":0,\"ticks\":\"\"}},\"type\":\"scatter\"}],\"scatterternary\":[{\"marker\":{\"colorbar\":{\"outlinewidth\":0,\"ticks\":\"\"}},\"type\":\"scatterternary\"}],\"surface\":[{\"colorbar\":{\"outlinewidth\":0,\"ticks\":\"\"},\"colorscale\":[[0.0,\"#0d0887\"],[0.1111111111111111,\"#46039f\"],[0.2222222222222222,\"#7201a8\"],[0.3333333333333333,\"#9c179e\"],[0.4444444444444444,\"#bd3786\"],[0.5555555555555556,\"#d8576b\"],[0.6666666666666666,\"#ed7953\"],[0.7777777777777778,\"#fb9f3a\"],[0.8888888888888888,\"#fdca26\"],[1.0,\"#f0f921\"]],\"type\":\"surface\"}],\"table\":[{\"cells\":{\"fill\":{\"color\":\"#EBF0F8\"},\"line\":{\"color\":\"white\"}},\"header\":{\"fill\":{\"color\":\"#C8D4E3\"},\"line\":{\"color\":\"white\"}},\"type\":\"table\"}]},\"layout\":{\"annotationdefaults\":{\"arrowcolor\":\"#2a3f5f\",\"arrowhead\":0,\"arrowwidth\":1},\"autotypenumbers\":\"strict\",\"coloraxis\":{\"colorbar\":{\"outlinewidth\":0,\"ticks\":\"\"}},\"colorscale\":{\"diverging\":[[0,\"#8e0152\"],[0.1,\"#c51b7d\"],[0.2,\"#de77ae\"],[0.3,\"#f1b6da\"],[0.4,\"#fde0ef\"],[0.5,\"#f7f7f7\"],[0.6,\"#e6f5d0\"],[0.7,\"#b8e186\"],[0.8,\"#7fbc41\"],[0.9,\"#4d9221\"],[1,\"#276419\"]],\"sequential\":[[0.0,\"#0d0887\"],[0.1111111111111111,\"#46039f\"],[0.2222222222222222,\"#7201a8\"],[0.3333333333333333,\"#9c179e\"],[0.4444444444444444,\"#bd3786\"],[0.5555555555555556,\"#d8576b\"],[0.6666666666666666,\"#ed7953\"],[0.7777777777777778,\"#fb9f3a\"],[0.8888888888888888,\"#fdca26\"],[1.0,\"#f0f921\"]],\"sequentialminus\":[[0.0,\"#0d0887\"],[0.1111111111111111,\"#46039f\"],[0.2222222222222222,\"#7201a8\"],[0.3333333333333333,\"#9c179e\"],[0.4444444444444444,\"#bd3786\"],[0.5555555555555556,\"#d8576b\"],[0.6666666666666666,\"#ed7953\"],[0.7777777777777778,\"#fb9f3a\"],[0.8888888888888888,\"#fdca26\"],[1.0,\"#f0f921\"]]},\"colorway\":[\"#636efa\",\"#EF553B\",\"#00cc96\",\"#ab63fa\",\"#FFA15A\",\"#19d3f3\",\"#FF6692\",\"#B6E880\",\"#FF97FF\",\"#FECB52\"],\"font\":{\"color\":\"#2a3f5f\"},\"geo\":{\"bgcolor\":\"white\",\"lakecolor\":\"white\",\"landcolor\":\"#E5ECF6\",\"showlakes\":true,\"showland\":true,\"subunitcolor\":\"white\"},\"hoverlabel\":{\"align\":\"left\"},\"hovermode\":\"closest\",\"mapbox\":{\"style\":\"light\"},\"paper_bgcolor\":\"white\",\"plot_bgcolor\":\"#E5ECF6\",\"polar\":{\"angularaxis\":{\"gridcolor\":\"white\",\"linecolor\":\"white\",\"ticks\":\"\"},\"bgcolor\":\"#E5ECF6\",\"radialaxis\":{\"gridcolor\":\"white\",\"linecolor\":\"white\",\"ticks\":\"\"}},\"scene\":{\"xaxis\":{\"backgroundcolor\":\"#E5ECF6\",\"gridcolor\":\"white\",\"gridwidth\":2,\"linecolor\":\"white\",\"showbackground\":true,\"ticks\":\"\",\"zerolinecolor\":\"white\"},\"yaxis\":{\"backgroundcolor\":\"#E5ECF6\",\"gridcolor\":\"white\",\"gridwidth\":2,\"linecolor\":\"white\",\"showbackground\":true,\"ticks\":\"\",\"zerolinecolor\":\"white\"},\"zaxis\":{\"backgroundcolor\":\"#E5ECF6\",\"gridcolor\":\"white\",\"gridwidth\":2,\"linecolor\":\"white\",\"showbackground\":true,\"ticks\":\"\",\"zerolinecolor\":\"white\"}},\"shapedefaults\":{\"line\":{\"color\":\"#2a3f5f\"}},\"ternary\":{\"aaxis\":{\"gridcolor\":\"white\",\"linecolor\":\"white\",\"ticks\":\"\"},\"baxis\":{\"gridcolor\":\"white\",\"linecolor\":\"white\",\"ticks\":\"\"},\"bgcolor\":\"#E5ECF6\",\"caxis\":{\"gridcolor\":\"white\",\"linecolor\":\"white\",\"ticks\":\"\"}},\"title\":{\"x\":0.05},\"xaxis\":{\"automargin\":true,\"gridcolor\":\"white\",\"linecolor\":\"white\",\"ticks\":\"\",\"title\":{\"standoff\":15},\"zerolinecolor\":\"white\",\"zerolinewidth\":2},\"yaxis\":{\"automargin\":true,\"gridcolor\":\"white\",\"linecolor\":\"white\",\"ticks\":\"\",\"title\":{\"standoff\":15},\"zerolinecolor\":\"white\",\"zerolinewidth\":2}}},\"title\":{\"font\":{\"color\":\"#4D5663\"}},\"xaxis\":{\"gridcolor\":\"#E1E5ED\",\"showgrid\":true,\"tickfont\":{\"color\":\"#4D5663\"},\"title\":{\"font\":{\"color\":\"#4D5663\"},\"text\":\"\"},\"zerolinecolor\":\"#E1E5ED\"},\"yaxis\":{\"gridcolor\":\"#E1E5ED\",\"showgrid\":true,\"tickfont\":{\"color\":\"#4D5663\"},\"title\":{\"font\":{\"color\":\"#4D5663\"},\"text\":\"\"},\"zerolinecolor\":\"#E1E5ED\"}},                        {\"showLink\": true, \"linkText\": \"Export to plot.ly\", \"plotlyServerURL\": \"https://plot.ly\", \"responsive\": true}                    ).then(function(){\n",
       "                            \n",
       "var gd = document.getElementById('a775284b-0916-480e-8daa-08bee54263dc');\n",
       "var x = new MutationObserver(function (mutations, observer) {{\n",
       "        var display = window.getComputedStyle(gd).display;\n",
       "        if (!display || display === 'none') {{\n",
       "            console.log([gd, 'removed!']);\n",
       "            Plotly.purge(gd);\n",
       "            observer.disconnect();\n",
       "        }}\n",
       "}});\n",
       "\n",
       "// Listen for the removal of the full notebook cells\n",
       "var notebookContainer = gd.closest('#notebook-container');\n",
       "if (notebookContainer) {{\n",
       "    x.observe(notebookContainer, {childList: true});\n",
       "}}\n",
       "\n",
       "// Listen for the clearing of the current output cell\n",
       "var outputEl = gd.closest('.output');\n",
       "if (outputEl) {{\n",
       "    x.observe(outputEl, {childList: true});\n",
       "}}\n",
       "\n",
       "                        })                };                });            </script>        </div>"
      ]
     },
     "metadata": {},
     "output_type": "display_data"
    }
   ],
   "source": [
    "main(ch2)"
   ]
  }
 ],
 "metadata": {
  "kernelspec": {
   "display_name": "Python 3 (ipykernel)",
   "language": "python",
   "name": "python3"
  },
  "language_info": {
   "codemirror_mode": {
    "name": "ipython",
    "version": 3
   },
   "file_extension": ".py",
   "mimetype": "text/x-python",
   "name": "python",
   "nbconvert_exporter": "python",
   "pygments_lexer": "ipython3",
   "version": "3.9.12"
  }
 },
 "nbformat": 4,
 "nbformat_minor": 5
}
