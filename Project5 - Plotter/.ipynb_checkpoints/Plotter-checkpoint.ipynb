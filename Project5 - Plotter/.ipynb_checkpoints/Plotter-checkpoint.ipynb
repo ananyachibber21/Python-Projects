{
 "cells": [
  {
   "cell_type": "code",
   "execution_count": null,
   "id": "ed285a30",
   "metadata": {},
   "outputs": [],
   "source": [
    "pip install plotly"
   ]
  },
  {
   "cell_type": "code",
   "execution_count": null,
   "id": "99641b87",
   "metadata": {},
   "outputs": [],
   "source": [
    "pip install cufflinks"
   ]
  },
  {
   "cell_type": "code",
   "execution_count": null,
   "id": "5ec7db37",
   "metadata": {},
   "outputs": [],
   "source": [
    "pip install chart-studio"
   ]
  },
  {
   "cell_type": "code",
   "execution_count": null,
   "id": "7675e7c3",
   "metadata": {},
   "outputs": [],
   "source": [
    "import numpy as np\n",
    "import pandas as pd\n",
    "import chart_studio.plotly as pl\n",
    "import plotly.offline as po\n",
    "import cufflinks as cf"
   ]
  },
  {
   "cell_type": "code",
   "execution_count": null,
   "id": "e57b8a29",
   "metadata": {},
   "outputs": [],
   "source": [
    "po.init_notebook_mode(connected = True)\n",
    "cf.go_offline()"
   ]
  },
  {
   "cell_type": "code",
   "execution_count": null,
   "id": "1621e6c9",
   "metadata": {},
   "outputs": [],
   "source": [
    "def createDataframe(ch1):\n",
    "    if(ch1 == 1):\n",
    "        x = np.random.rand(100,5)\n",
    "        df1 = pd.DataFrame(x,columns=['A','B','C','D','E'])\n",
    "    elif(ch1 == 2):\n",
    "        x = [0,0,0,0,0]\n",
    "        r1 = [0,0,0,0,0]\n",
    "        r2 = [0,0,0,0,0]\n",
    "        r3 = [0,0,0,0,0]\n",
    "        r4 = [0,0,0,0,0]\n",
    "        print(\"Enter the value for columns: \")\n",
    "        for i in range(5):\n",
    "            x[i] = input()\n",
    "        print(\"Enter the value for first row: \")\n",
    "        for i in range(5):\n",
    "            r1[i] = int(input())\n",
    "        print(\"Enter the value for second row: \")\n",
    "        for i in range(5):\n",
    "            r2[i] = int(input())\n",
    "        print(\"Enter the value for third row: \")\n",
    "        for i in range(5):\n",
    "            r3[i] = int(input())\n",
    "        print(\"Enter the value for forth row: \")\n",
    "        for i in range(5):\n",
    "            r4[i] = int(input())\n",
    "        df1 = pd.DataFrame([r1,r2,r3,r4], columns = x)\n",
    "    elif(ch1 == 3):\n",
    "        file = input(\"Enter the file name: \")\n",
    "        x = pd.read_csv(file)\n",
    "        df1 = pd.DataFrame(x)\n",
    "    else:\n",
    "        print(\"Dataframe creation failed! Please enter a number between 1 and 3\")\n",
    "    return df1\n",
    "        "
   ]
  },
  {
   "cell_type": "code",
   "execution_count": null,
   "id": "d21a9c69",
   "metadata": {},
   "outputs": [],
   "source": [
    "def plotter(ch3):\n",
    "    if(ch3 == 1):\n",
    "        final_plot = df1.iplot(kind=\"scatter\")\n",
    "    elif(ch3 == 2):\n",
    "        final_plot = df1.iplot(kind=\"scatter\",mode=\"markers\",symbol=\"0\",colorscale=\"paired\")\n",
    "    elif(ch3 == 3):\n",
    "        final_plot = df1.iplot(kind=\"bar\")\n",
    "    elif(ch3 == 4):\n",
    "        final_plot = df1.iplot(kind=\"hist\")\n",
    "    elif(ch3 == 5):\n",
    "        final_plot = df1.iplot(kind=\"box\")\n",
    "    elif(ch3 == 6):\n",
    "        final_plot = df1.iplot(kind=\"surface\")\n",
    "    else:\n",
    "        final_plot = print(\"Please try Again! Enter value between 1 and 6\")\n",
    "    return final_plot\n",
    "    "
   ]
  },
  {
   "cell_type": "code",
   "execution_count": null,
   "id": "90d3d112",
   "metadata": {},
   "outputs": [],
   "source": [
    "def plotter2(ch3):\n",
    "    col = input('Enter the number of columns you want to plot by selecting only 1 , 2 or 3')\n",
    "    col = int(col)\n",
    "    if(col==1):\n",
    "        colm = input('Enter the column you want to plot by selecting any column from dataframe head')\n",
    "        if(ch3 == 1):\n",
    "            final_plot = df1[colm].iplot(kind='scatter')\n",
    "        elif(ch3 == 2):\n",
    "            final_plot = df1[colm].iplot(kind='scatter' , mode='markers' , symbol='x' ,colorscale='paired')\n",
    "        elif(ch3 == 3):\n",
    "            final_plot = df1[colm].iplot(kind='bar')\n",
    "        elif(ch3 == 4):\n",
    "            final_plot = df1[colm].iplot(kind='hist')\n",
    "        elif(ch3 == 5):\n",
    "            final_plot = df1[colm].iplot(kind='box')\n",
    "        elif(ch3 == 6 or ch3 == 7):\n",
    "            final_plot = print('Bubble plot and surface plot require more than one column arguments')\n",
    "        else:\n",
    "            final_plot = print('Select only between 1 to 7')\n",
    "    elif(col==2):\n",
    "        print('Enter the columns you want to plot by selecting from dataframe head')\n",
    "        x = input('First column')\n",
    "        y = input('Second column')\n",
    "        if(ch3 == 1):\n",
    "            final_plot = df1[[x,y]].iplot(kind='scatter')\n",
    "        elif(ch3 == 2):\n",
    "            final_plot = df1[[x,y]].iplot(kind='scatter' , mode='markers' , symbol='x' ,colorscale='paired')\n",
    "        elif(ch3 == 3):\n",
    "            final_plot = df1[[x,y]].iplot(kind='bar')\n",
    "        elif(ch3 == 4):\n",
    "            final_plot = df1[[x,y]].iplot(kind='hist')\n",
    "        elif(ch3 == 5):\n",
    "            final_plot = df1[[x,y]].iplot(kind='box')\n",
    "        elif(ch3 == 6):\n",
    "            final_plot = df1[[x,y]].iplot(kind='surface')\n",
    "        elif(ch3 == 7):\n",
    "            size = input('Please enter the size column for bubble plot')\n",
    "            final_plot = df1.iplot(kind='bubble' , x=x,y=y,size=size)\n",
    "        else:\n",
    "            final_plot = print('Select only between 1 to 7')\n",
    "    elif(col==3):\n",
    "        print('Enter the columns you want to plot')\n",
    "        x=input('First column')\n",
    "        y=input('Second column')\n",
    "        z=input('Third column')\n",
    "        if(ch3 == 1):\n",
    "            final_plot = df1[[x,y,z]].iplot(kind='scatter')\n",
    "        elif(ch3 == 2):\n",
    "            final_plot = df1[[x,y,z]].iplot(kind='scatter' , mode='markers' , symbol='x' ,colorscale='paired')\n",
    "        elif(ch3 == 3):\n",
    "            final_plot = df1[[x,y,z]].iplot(kind='bar')\n",
    "        elif(ch3 == 4):\n",
    "            final_plot = df1[[x,y,z]].iplot(kind='hist')\n",
    "        elif(ch3 == 5):\n",
    "            final_plot = df1[[x,y,z]].iplot(kind='box')\n",
    "        elif(ch3 == 6):\n",
    "            final_plot = df1[[x,y,z]].iplot(kind='surface')\n",
    "        elif(ch3 == 7):\n",
    "            size = input('Please enter the size column for bubble plot')\n",
    "            final_plot = df1.iplot(kind='bubble' , x=x,y=y,z=z,size=size )\n",
    "        else:\n",
    "            final_plot = print('Select only between 1 to 7')\n",
    "    else:\n",
    "        final_plot = print('Please enter only 1 , 2 or 3')\n",
    "    return final_plot"
   ]
  },
  {
   "cell_type": "code",
   "execution_count": null,
   "id": "ffe874e4",
   "metadata": {},
   "outputs": [],
   "source": [
    "def main(ch2):\n",
    "    if(ch2 == 1):\n",
    "        print(\"Select the type of plot you want to plot for your dataset\")\n",
    "        print('1-Line Plot')\n",
    "        print('2-Scatter Plot')\n",
    "        print('3-Bar Plot')\n",
    "        print('4-Histogram')\n",
    "        print('5-Box Plot')\n",
    "        print('6-Surface Plot')\n",
    "        ch3 = int(input())\n",
    "        plot = plotter(ch3)\n",
    "    elif(ch2 == 2):\n",
    "        print(\"Select the type of plot you want to plot for your dataset\")\n",
    "        print('1-Line Plot')\n",
    "        print('2-Scatter Plot')\n",
    "        print('3-Bar Plot')\n",
    "        print('4-Histogram')\n",
    "        print('5-Box Plot')\n",
    "        print('6-Surface Plot')\n",
    "        print('7-Bubble Plot')\n",
    "        ch3 = int(input())\n",
    "        plot = plotter2(ch3)\n",
    "    else:\n",
    "        print(\"Please enter 1 or 2. Try Again!\")\n",
    "        \n",
    "        "
   ]
  },
  {
   "cell_type": "code",
   "execution_count": null,
   "id": "097b9081",
   "metadata": {},
   "outputs": [],
   "source": [
    "print('Choose the type of data you need ...')\n",
    "print('1-Random data with 100 rows and 5 columns')\n",
    "print('2-Customize your dataset with 4 rows and 5 columns')\n",
    "print('3-Upload csv/json/text file')\n",
    "ch1 = int(input())\n",
    "df1 = createDataframe(ch1)"
   ]
  },
  {
   "cell_type": "code",
   "execution_count": null,
   "id": "cda6287d",
   "metadata": {},
   "outputs": [],
   "source": [
    "df1.head()"
   ]
  },
  {
   "cell_type": "code",
   "execution_count": null,
   "id": "121412a9",
   "metadata": {},
   "outputs": [],
   "source": [
    "print(\"What type of plot you need? A complete data plot or columns plot\")\n",
    "print('Press 1 for plotting all columns')\n",
    "print('Press 2 for plotting specified columns')\n",
    "ch2 = int(input())"
   ]
  },
  {
   "cell_type": "code",
   "execution_count": null,
   "id": "e3c432c5",
   "metadata": {},
   "outputs": [],
   "source": [
    "main(ch2)"
   ]
  }
 ],
 "metadata": {
  "kernelspec": {
   "display_name": "Python 3 (ipykernel)",
   "language": "python",
   "name": "python3"
  },
  "language_info": {
   "codemirror_mode": {
    "name": "ipython",
    "version": 3
   },
   "file_extension": ".py",
   "mimetype": "text/x-python",
   "name": "python",
   "nbconvert_exporter": "python",
   "pygments_lexer": "ipython3",
   "version": "3.9.12"
  }
 },
 "nbformat": 4,
 "nbformat_minor": 5
}
